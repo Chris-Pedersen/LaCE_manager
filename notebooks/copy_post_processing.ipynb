{
 "cells": [
  {
   "cell_type": "markdown",
   "metadata": {},
   "source": [
    "# Copy post-processing files from original folder"
   ]
  },
  {
   "cell_type": "code",
   "execution_count": 1,
   "metadata": {
    "collapsed": false,
    "jupyter": {
     "outputs_hidden": false
    }
   },
   "outputs": [],
   "source": [
    "%matplotlib inline\n",
    "%load_ext autoreload\n",
    "%autoreload 2"
   ]
  },
  {
   "cell_type": "code",
   "execution_count": 2,
   "metadata": {},
   "outputs": [],
   "source": [
    "import numpy as np\n",
    "import shutil\n",
    "import os"
   ]
  },
  {
   "cell_type": "code",
   "execution_count": 3,
   "metadata": {},
   "outputs": [],
   "source": [
    "raw_base_dir='/global/cfs/cdirs/desi/users/font/lace_sims/'\n",
    "pos_base_dir='/global/cfs/cdirs/desi/users/font/lace_post/'"
   ]
  },
  {
   "cell_type": "code",
   "execution_count": 4,
   "metadata": {},
   "outputs": [],
   "source": [
    "def copy_file_if_needed(in_dir,out_dir,fname):\n",
    "    in_fname = os.path.join(in_dir,fname)\n",
    "    out_fname = os.path.join(out_dir,fname)\n",
    "    if os.path.exists(out_fname):\n",
    "        print('file {} already exists'.format(out_fname))\n",
    "        return\n",
    "    else:\n",
    "        print('copy file {} to {}'.format(in_fname,out_fname))\n",
    "        shutil.copyfile(in_fname,out_fname)\n",
    "        return"
   ]
  },
  {
   "cell_type": "code",
   "execution_count": 5,
   "metadata": {},
   "outputs": [],
   "source": [
    "def copy_dir_if_needed(in_dir,out_dir,dirname):\n",
    "    in_dirname = os.path.join(in_dir,dirname)\n",
    "    out_dirname = os.path.join(out_dir,dirname)\n",
    "    \n",
    "    if os.path.exists(out_dirname):\n",
    "        if not os.path.isdir(out_dirname):\n",
    "            raise ValueError(out_dirname+' exists but is not a folder!')\n",
    "        print('folder {} already exists'.format(out_dirname))\n",
    "        return\n",
    "    else:\n",
    "        print('copy folder {} to {}'.format(in_dirname,out_dirname))\n",
    "        shutil.copytree(in_dirname,out_dirname)\n",
    "        return"
   ]
  },
  {
   "cell_type": "code",
   "execution_count": 6,
   "metadata": {},
   "outputs": [],
   "source": [
    "def mkdir_if_needed(dirname):\n",
    "    if os.path.exists(dirname):\n",
    "        print('folder {} already exists'.format(dirname))\n",
    "        if not os.path.isdir(dirname):\n",
    "            raise ValueError(dirname+' exists but is not a folder!')\n",
    "    else:\n",
    "        print('create directory',dirname)\n",
    "        os.mkdir(dirname)"
   ]
  },
  {
   "cell_type": "code",
   "execution_count": 7,
   "metadata": {},
   "outputs": [],
   "source": [
    "def assert_dir_exists(dirname):\n",
    "    if not os.path.isdir(dirname):\n",
    "        raise ValueError(dirname+' folder does not exist!')"
   ]
  },
  {
   "cell_type": "code",
   "execution_count": 8,
   "metadata": {},
   "outputs": [],
   "source": [
    "def copy_post(sim_pair='sim_pair_0',no_parameter_file=False):\n",
    "\n",
    "    raw_pair_dir = os.path.join(raw_base_dir,sim_pair)\n",
    "    pos_pair_dir = os.path.join(pos_base_dir,sim_pair)\n",
    "   \n",
    "    assert_dir_exists(raw_pair_dir)\n",
    "    mkdir_if_needed(pos_pair_dir)\n",
    "    if not no_parameter_file:\n",
    "        copy_file_if_needed(raw_pair_dir,pos_pair_dir,'parameter.json')\n",
    "    \n",
    "    for sim in ['sim_minus','sim_plus']:\n",
    "        raw_dir = os.path.join(raw_pair_dir, sim)\n",
    "        pos_dir = os.path.join(pos_pair_dir, sim)\n",
    "        \n",
    "        assert_dir_exists(raw_dir)\n",
    "        mkdir_if_needed(pos_dir)\n",
    "                  \n",
    "        copy_dir_if_needed(raw_dir,pos_dir,'genpk')\n",
    "        copy_dir_if_needed(raw_dir+'/output',pos_dir,'skewers')\n",
    "\n",
    "        for fname in ['filtering_length.json','paramfile.gadget','paramfile.genic']:\n",
    "            copy_file_if_needed(raw_dir,pos_dir,fname)\n",
    "\n",
    "        for snap in range(11):\n",
    "            p1d_fname='p1d_{}_Ns500_wM0.05.json'.format(snap)\n",
    "            copy_file_if_needed(raw_dir,pos_dir,p1d_fname)"
   ]
  },
  {
   "cell_type": "code",
   "execution_count": 29,
   "metadata": {},
   "outputs": [
    {
     "name": "stdout",
     "output_type": "stream",
     "text": [
      "create directory /global/cfs/cdirs/desi/users/font/lace_post/Curved\n",
      "create directory /global/cfs/cdirs/desi/users/font/lace_post/Curved/sim_minus\n",
      "copy folder /global/cfs/cdirs/desi/users/font/lace_sims/Curved/sim_minus/genpk to /global/cfs/cdirs/desi/users/font/lace_post/Curved/sim_minus/genpk\n",
      "copy folder /global/cfs/cdirs/desi/users/font/lace_sims/Curved/sim_minus/output/skewers to /global/cfs/cdirs/desi/users/font/lace_post/Curved/sim_minus/skewers\n",
      "copy file /global/cfs/cdirs/desi/users/font/lace_sims/Curved/sim_minus/filtering_length.json to /global/cfs/cdirs/desi/users/font/lace_post/Curved/sim_minus/filtering_length.json\n",
      "copy file /global/cfs/cdirs/desi/users/font/lace_sims/Curved/sim_minus/paramfile.gadget to /global/cfs/cdirs/desi/users/font/lace_post/Curved/sim_minus/paramfile.gadget\n",
      "copy file /global/cfs/cdirs/desi/users/font/lace_sims/Curved/sim_minus/paramfile.genic to /global/cfs/cdirs/desi/users/font/lace_post/Curved/sim_minus/paramfile.genic\n",
      "copy file /global/cfs/cdirs/desi/users/font/lace_sims/Curved/sim_minus/p1d_0_Ns500_wM0.05.json to /global/cfs/cdirs/desi/users/font/lace_post/Curved/sim_minus/p1d_0_Ns500_wM0.05.json\n",
      "copy file /global/cfs/cdirs/desi/users/font/lace_sims/Curved/sim_minus/p1d_1_Ns500_wM0.05.json to /global/cfs/cdirs/desi/users/font/lace_post/Curved/sim_minus/p1d_1_Ns500_wM0.05.json\n",
      "copy file /global/cfs/cdirs/desi/users/font/lace_sims/Curved/sim_minus/p1d_2_Ns500_wM0.05.json to /global/cfs/cdirs/desi/users/font/lace_post/Curved/sim_minus/p1d_2_Ns500_wM0.05.json\n",
      "copy file /global/cfs/cdirs/desi/users/font/lace_sims/Curved/sim_minus/p1d_3_Ns500_wM0.05.json to /global/cfs/cdirs/desi/users/font/lace_post/Curved/sim_minus/p1d_3_Ns500_wM0.05.json\n",
      "copy file /global/cfs/cdirs/desi/users/font/lace_sims/Curved/sim_minus/p1d_4_Ns500_wM0.05.json to /global/cfs/cdirs/desi/users/font/lace_post/Curved/sim_minus/p1d_4_Ns500_wM0.05.json\n",
      "copy file /global/cfs/cdirs/desi/users/font/lace_sims/Curved/sim_minus/p1d_5_Ns500_wM0.05.json to /global/cfs/cdirs/desi/users/font/lace_post/Curved/sim_minus/p1d_5_Ns500_wM0.05.json\n",
      "copy file /global/cfs/cdirs/desi/users/font/lace_sims/Curved/sim_minus/p1d_6_Ns500_wM0.05.json to /global/cfs/cdirs/desi/users/font/lace_post/Curved/sim_minus/p1d_6_Ns500_wM0.05.json\n",
      "copy file /global/cfs/cdirs/desi/users/font/lace_sims/Curved/sim_minus/p1d_7_Ns500_wM0.05.json to /global/cfs/cdirs/desi/users/font/lace_post/Curved/sim_minus/p1d_7_Ns500_wM0.05.json\n",
      "copy file /global/cfs/cdirs/desi/users/font/lace_sims/Curved/sim_minus/p1d_8_Ns500_wM0.05.json to /global/cfs/cdirs/desi/users/font/lace_post/Curved/sim_minus/p1d_8_Ns500_wM0.05.json\n",
      "copy file /global/cfs/cdirs/desi/users/font/lace_sims/Curved/sim_minus/p1d_9_Ns500_wM0.05.json to /global/cfs/cdirs/desi/users/font/lace_post/Curved/sim_minus/p1d_9_Ns500_wM0.05.json\n",
      "copy file /global/cfs/cdirs/desi/users/font/lace_sims/Curved/sim_minus/p1d_10_Ns500_wM0.05.json to /global/cfs/cdirs/desi/users/font/lace_post/Curved/sim_minus/p1d_10_Ns500_wM0.05.json\n",
      "create directory /global/cfs/cdirs/desi/users/font/lace_post/Curved/sim_plus\n",
      "copy folder /global/cfs/cdirs/desi/users/font/lace_sims/Curved/sim_plus/genpk to /global/cfs/cdirs/desi/users/font/lace_post/Curved/sim_plus/genpk\n",
      "copy folder /global/cfs/cdirs/desi/users/font/lace_sims/Curved/sim_plus/output/skewers to /global/cfs/cdirs/desi/users/font/lace_post/Curved/sim_plus/skewers\n",
      "copy file /global/cfs/cdirs/desi/users/font/lace_sims/Curved/sim_plus/filtering_length.json to /global/cfs/cdirs/desi/users/font/lace_post/Curved/sim_plus/filtering_length.json\n",
      "copy file /global/cfs/cdirs/desi/users/font/lace_sims/Curved/sim_plus/paramfile.gadget to /global/cfs/cdirs/desi/users/font/lace_post/Curved/sim_plus/paramfile.gadget\n",
      "copy file /global/cfs/cdirs/desi/users/font/lace_sims/Curved/sim_plus/paramfile.genic to /global/cfs/cdirs/desi/users/font/lace_post/Curved/sim_plus/paramfile.genic\n",
      "copy file /global/cfs/cdirs/desi/users/font/lace_sims/Curved/sim_plus/p1d_0_Ns500_wM0.05.json to /global/cfs/cdirs/desi/users/font/lace_post/Curved/sim_plus/p1d_0_Ns500_wM0.05.json\n",
      "copy file /global/cfs/cdirs/desi/users/font/lace_sims/Curved/sim_plus/p1d_1_Ns500_wM0.05.json to /global/cfs/cdirs/desi/users/font/lace_post/Curved/sim_plus/p1d_1_Ns500_wM0.05.json\n",
      "copy file /global/cfs/cdirs/desi/users/font/lace_sims/Curved/sim_plus/p1d_2_Ns500_wM0.05.json to /global/cfs/cdirs/desi/users/font/lace_post/Curved/sim_plus/p1d_2_Ns500_wM0.05.json\n",
      "copy file /global/cfs/cdirs/desi/users/font/lace_sims/Curved/sim_plus/p1d_3_Ns500_wM0.05.json to /global/cfs/cdirs/desi/users/font/lace_post/Curved/sim_plus/p1d_3_Ns500_wM0.05.json\n",
      "copy file /global/cfs/cdirs/desi/users/font/lace_sims/Curved/sim_plus/p1d_4_Ns500_wM0.05.json to /global/cfs/cdirs/desi/users/font/lace_post/Curved/sim_plus/p1d_4_Ns500_wM0.05.json\n",
      "copy file /global/cfs/cdirs/desi/users/font/lace_sims/Curved/sim_plus/p1d_5_Ns500_wM0.05.json to /global/cfs/cdirs/desi/users/font/lace_post/Curved/sim_plus/p1d_5_Ns500_wM0.05.json\n",
      "copy file /global/cfs/cdirs/desi/users/font/lace_sims/Curved/sim_plus/p1d_6_Ns500_wM0.05.json to /global/cfs/cdirs/desi/users/font/lace_post/Curved/sim_plus/p1d_6_Ns500_wM0.05.json\n",
      "copy file /global/cfs/cdirs/desi/users/font/lace_sims/Curved/sim_plus/p1d_7_Ns500_wM0.05.json to /global/cfs/cdirs/desi/users/font/lace_post/Curved/sim_plus/p1d_7_Ns500_wM0.05.json\n",
      "copy file /global/cfs/cdirs/desi/users/font/lace_sims/Curved/sim_plus/p1d_8_Ns500_wM0.05.json to /global/cfs/cdirs/desi/users/font/lace_post/Curved/sim_plus/p1d_8_Ns500_wM0.05.json\n",
      "copy file /global/cfs/cdirs/desi/users/font/lace_sims/Curved/sim_plus/p1d_9_Ns500_wM0.05.json to /global/cfs/cdirs/desi/users/font/lace_post/Curved/sim_plus/p1d_9_Ns500_wM0.05.json\n",
      "copy file /global/cfs/cdirs/desi/users/font/lace_sims/Curved/sim_plus/p1d_10_Ns500_wM0.05.json to /global/cfs/cdirs/desi/users/font/lace_post/Curved/sim_plus/p1d_10_Ns500_wM0.05.json\n"
     ]
    }
   ],
   "source": [
    "for sim_pair in ['Curved']:\n",
    "    copy_post(sim_pair=sim_pair,no_parameter_file=True)"
   ]
  },
  {
   "cell_type": "code",
   "execution_count": 30,
   "metadata": {},
   "outputs": [],
   "source": [
    "a=1"
   ]
  },
  {
   "cell_type": "code",
   "execution_count": 22,
   "metadata": {},
   "outputs": [],
   "source": [
    "import json\n",
    "fname_new='/global/cfs/cdirs/desi/users/font/test_lace/lace_post/sim_pair_0/sim_minus/p1d_8_Ns500_wM0.05.json'\n",
    "fname_old='/global/cfs/cdirs/desi/users/font/lace_post/sim_pair_0/sim_minus/p1d_8_Ns500_wM0.05.json'\n",
    "with open(fname_new) as json_data:\n",
    "    data_new = json.load(json_data)\n",
    "with open(fname_old) as json_data:\n",
    "    data_old = json.load(json_data)"
   ]
  },
  {
   "cell_type": "code",
   "execution_count": 23,
   "metadata": {},
   "outputs": [
    {
     "name": "stdout",
     "output_type": "stream",
     "text": [
      "skewers_dir /home/dc-pede1/rds/rds-dirac-dp132/emulator_768_09122019/sim_pair_0/sim_minus/output/skewers/ /global/cfs/cdirs/desi/users/font/test_lace/lace_post//sim_pair_0/sim_minus//skewers/\n",
      "post_dir not in data_old\n",
      "raw_dir not in data_old\n"
     ]
    }
   ],
   "source": [
    "snap_new=data_new['snapshot_data']\n",
    "snap_old=data_old['snapshot_data']\n",
    "\n",
    "for key in snap_new:\n",
    "    if key not in snap_old:\n",
    "        print(key,'not in data_old')\n",
    "        continue\n",
    "    value_new=snap_new[key]\n",
    "    value_old=snap_old[key]\n",
    "    if value_new != value_old:\n",
    "        print(key,value_old,value_new)"
   ]
  },
  {
   "cell_type": "code",
   "execution_count": 24,
   "metadata": {},
   "outputs": [
    {
     "name": "stdout",
     "output_type": "stream",
     "text": [
      "p3d_data not in data_old\n",
      "p3d_data not in data_old\n",
      "p3d_data not in data_old\n"
     ]
    }
   ],
   "source": [
    "p1d_new=data_new['p1d_data']\n",
    "p1d_old=data_old['p1d_data']\n",
    "for itau in range(len(p1d_new)):\n",
    "    for key in p1d_new[itau]:\n",
    "        if key not in p1d_old[itau]:\n",
    "            print(key,'not in data_old')\n",
    "            continue\n",
    "        if 'Mpc' in key:\n",
    "            continue\n",
    "        value_new=p1d_new[itau][key]\n",
    "        value_old=p1d_old[itau][key]\n",
    "        if value_new != value_old:\n",
    "            print(key,value_old,value_new)"
   ]
  },
  {
   "cell_type": "code",
   "execution_count": 25,
   "metadata": {},
   "outputs": [
    {
     "name": "stdout",
     "output_type": "stream",
     "text": [
      "dict_keys(['z', 'mean_flux', 'n_xy', 'n_z', 'd_xy', 'd_z', 'n_k_bins', 'k_Mpc_max', 'n_mu_bins', 'k_Mpc', 'mu', 'counts', 'p3d_Mpc'])\n"
     ]
    },
    {
     "data": {
      "image/png": "[encoded data removed]",
      "text/plain": [
       "<Figure size 432x288 with 1 Axes>"
      ]
     },
     "metadata": {
      "needs_background": "light"
     },
     "output_type": "display_data"
    }
   ],
   "source": [
    "from lace_manager.postprocess import measure_flux_power\n",
    "p3d_data=p1d_new[0]['p3d_data']\n",
    "print(p3d_data.keys())\n",
    "for key in ['k_Mpc', 'mu', 'counts', 'p3d_Mpc']:\n",
    "    p3d_data[key]=np.array(p3d_data[key])\n",
    "measure_flux_power.plot_p3d(p3d_data)"
   ]
  },
  {
   "cell_type": "code",
   "execution_count": 17,
   "metadata": {},
   "outputs": [],
   "source": [
    "a=3"
   ]
  },
  {
   "cell_type": "code",
   "execution_count": null,
   "metadata": {},
   "outputs": [],
   "source": []
  }
 ],
 "metadata": {
  "kernelspec": {
   "display_name": "lace_pp",
   "language": "python",
   "name": "lace_pp"
  },
  "language_info": {
   "codemirror_mode": {
    "name": "ipython",
    "version": 3
   },
   "file_extension": ".py",
   "mimetype": "text/x-python",
   "name": "python",
   "nbconvert_exporter": "python",
   "pygments_lexer": "ipython3",
   "version": "3.8.13"
  }
 },
 "nbformat": 4,
 "nbformat_minor": 4
}
