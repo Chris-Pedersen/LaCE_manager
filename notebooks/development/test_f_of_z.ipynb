{
 "cells": [
  {
   "cell_type": "markdown",
   "metadata": {},
   "source": [
    "## Compare different calculations of f_star\n"
   ]
  },
  {
   "cell_type": "code",
   "execution_count": 1,
   "metadata": {},
   "outputs": [],
   "source": [
    "from lace_manager.cosmo import camb_cosmo\n",
    "from lace_manager.cosmo import fit_linP\n",
    "from lace_manager.likelihood import linear_power_model\n",
    "from lace_manager.likelihood import CAMB_model"
   ]
  },
  {
   "cell_type": "code",
   "execution_count": 2,
   "metadata": {},
   "outputs": [
    {
     "data": {
      "text/plain": [
       "67.0"
      ]
     },
     "execution_count": 2,
     "metadata": {},
     "output_type": "execute_result"
    }
   ],
   "source": [
    "zs=[2.0,3.0,4.0]\n",
    "z_star=3.0\n",
    "kp_kms=0.009\n",
    "camb_model=CAMB_model.CAMBModel(zs=zs)\n",
    "cosmo=camb_model.cosmo\n",
    "cosmo.H0"
   ]
  },
  {
   "cell_type": "code",
   "execution_count": 3,
   "metadata": {},
   "outputs": [],
   "source": [
    "camb_results=camb_model.get_camb_results()"
   ]
  },
  {
   "cell_type": "code",
   "execution_count": 4,
   "metadata": {},
   "outputs": [
    {
     "data": {
      "text/plain": [
       "0.9813416724832917"
      ]
     },
     "execution_count": 4,
     "metadata": {},
     "output_type": "execute_result"
    }
   ],
   "source": [
    "# new code (uses CAMB)\n",
    "camb_cosmo.get_f_of_z(cosmo,camb_results,z=z_star)"
   ]
  },
  {
   "cell_type": "code",
   "execution_count": 5,
   "metadata": {},
   "outputs": [
    {
     "data": {
      "text/plain": [
       "0.9813935085298198"
      ]
     },
     "execution_count": 5,
     "metadata": {},
     "output_type": "execute_result"
    }
   ],
   "source": [
    "# old code (uses numerical derivative, not very sensitive to kp_Mpc)\n",
    "fit_linP.compute_fz(cosmo,z=z_star,kp_Mpc=0.7)"
   ]
  },
  {
   "cell_type": "code",
   "execution_count": 6,
   "metadata": {},
   "outputs": [
    {
     "data": {
      "text/plain": [
       "{'f_star': 0.9813935108004337,\n",
       " 'g_star': 0.9677508579459803,\n",
       " 'linP_kms': poly1d([-0.10814521, -2.29951163, 16.09349829]),\n",
       " 'Delta2_star': 0.3603423347991143,\n",
       " 'n_star': -2.299511628221449,\n",
       " 'alpha_star': -0.21629042976377164}"
      ]
     },
     "execution_count": 6,
     "metadata": {},
     "output_type": "execute_result"
    }
   ],
   "source": [
    "linP_params_v1=fit_linP.parameterize_cosmology_kms(cosmo,camb_results,z_star,kp_kms,use_camb_fz=False)\n",
    "linP_params_v1"
   ]
  },
  {
   "cell_type": "code",
   "execution_count": 7,
   "metadata": {},
   "outputs": [
    {
     "data": {
      "text/plain": [
       "{'f_star': 0.9813416724832917,\n",
       " 'g_star': 0.9677508579459803,\n",
       " 'linP_kms': poly1d([-0.10814521, -2.29951163, 16.09349829]),\n",
       " 'Delta2_star': 0.3603423347991143,\n",
       " 'n_star': -2.299511628221449,\n",
       " 'alpha_star': -0.21629042976377164}"
      ]
     },
     "execution_count": 7,
     "metadata": {},
     "output_type": "execute_result"
    }
   ],
   "source": [
    "linP_params_v2=fit_linP.parameterize_cosmology_kms(cosmo,camb_results,z_star,kp_kms,use_camb_fz=True)\n",
    "linP_params_v2"
   ]
  },
  {
   "cell_type": "code",
   "execution_count": 8,
   "metadata": {},
   "outputs": [
    {
     "data": {
      "text/plain": [
       "{'f_star': 0.9813416724832917,\n",
       " 'g_star': 0.9677508579459803,\n",
       " 'Delta2_star': 0.3603423347991143,\n",
       " 'n_star': -2.299511628221449,\n",
       " 'alpha_star': -0.21629042976377164}"
      ]
     },
     "execution_count": 8,
     "metadata": {},
     "output_type": "execute_result"
    }
   ],
   "source": [
    "linP_model=linear_power_model.LinearPowerModel(cosmo=cosmo,results=camb_results)\n",
    "linP_model.get_params()"
   ]
  },
  {
   "cell_type": "code",
   "execution_count": null,
   "metadata": {},
   "outputs": [],
   "source": []
  },
  {
   "cell_type": "code",
   "execution_count": null,
   "metadata": {},
   "outputs": [],
   "source": []
  },
  {
   "cell_type": "code",
   "execution_count": null,
   "metadata": {},
   "outputs": [],
   "source": []
  }
 ],
 "metadata": {
  "kernelspec": {
   "display_name": "Python 3",
   "language": "python",
   "name": "python3"
  },
  "language_info": {
   "codemirror_mode": {
    "name": "ipython",
    "version": 3
   },
   "file_extension": ".py",
   "mimetype": "text/x-python",
   "name": "python",
   "nbconvert_exporter": "python",
   "pygments_lexer": "ipython3",
   "version": "3.8.5"
  }
 },
 "nbformat": 4,
 "nbformat_minor": 4
}
