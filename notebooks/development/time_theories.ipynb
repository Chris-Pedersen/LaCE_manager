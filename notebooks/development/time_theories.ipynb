{
 "cells": [
  {
   "cell_type": "markdown",
   "metadata": {},
   "source": [
    "## Time setup and predictions for different theories"
   ]
  },
  {
   "cell_type": "code",
   "execution_count": 1,
   "metadata": {},
   "outputs": [],
   "source": [
    "%matplotlib inline\n",
    "import matplotlib.pyplot as plt\n",
    "import matplotlib as mpl\n",
    "mpl.rcParams['savefig.dpi'] = 140\n",
    "mpl.rcParams['figure.dpi'] = 140\n",
    "import numpy as np\n",
    "# our own modules\n",
    "from lace_manager.data import data_MPGADGET\n",
    "from lace.emulator import gp_emulator\n",
    "from lace.emulator import p1d_archive\n",
    "from lace_manager.likelihood import likelihood\n",
    "from lace_manager.likelihood import full_theory\n",
    "from lace_manager.likelihood import lya_theory\n",
    "import time"
   ]
  },
  {
   "cell_type": "markdown",
   "metadata": {},
   "source": [
    "### Set up mock data\n",
    "\n",
    "Begin by picking a simulation to use as mock data, and creating a corresponding data object"
   ]
  },
  {
   "cell_type": "code",
   "execution_count": 2,
   "metadata": {},
   "outputs": [],
   "source": [
    "# specify simulation to use to generate synthetic data\n",
    "test_sim_label=\"diff_z\"\n",
    "if type(test_sim_label)==int:\n",
    "    drop_sim_number=test_sim_label\n",
    "    print('will drop sim number {} from emulator'.format(drop_sim_number))\n",
    "else:\n",
    "    drop_sim_number=None"
   ]
  },
  {
   "cell_type": "code",
   "execution_count": 3,
   "metadata": {},
   "outputs": [
    {
     "name": "stdout",
     "output_type": "stream",
     "text": [
      "H0 = 6.7000E+01, Omega_b h^2 = 2.2000E-02, Omega_c h^2 = 1.2000E-01, Omega_k = -5.5511E-17, Omega_nu h^2 = 0.0000E+00, A_s = 2.0061E-09, n_s = 9.6757E-01, alpha_s = 0.0000E+00\n"
     ]
    }
   ],
   "source": [
    "# specify simulation suite and P1D mesurements\n",
    "basedir=\"/lace/emulator/sim_suites/Australia20/\"\n",
    "skewers_label='Ns500_wM0.05'\n",
    "p1d_label=None\n",
    "z_max=4.5\n",
    "data=data_MPGADGET.P1D_MPGADGET(basedir=basedir,\n",
    "                                skewers_label=skewers_label,\n",
    "                                sim_label=test_sim_label,\n",
    "                                zmax=z_max,pivot_scalar=0.05)"
   ]
  },
  {
   "cell_type": "markdown",
   "metadata": {},
   "source": [
    "### Emulator and training set\n",
    "\n",
    "Create a set of training data to train an emulator"
   ]
  },
  {
   "cell_type": "code",
   "execution_count": 4,
   "metadata": {},
   "outputs": [],
   "source": [
    "# Set up emulator training set\n",
    "z_max=4\n",
    "archive=p1d_archive.archiveP1D(basedir=basedir,drop_sim_number=drop_sim_number,\n",
    "                            drop_tau_rescalings=True,z_max=z_max,\n",
    "                            drop_temp_rescalings=True,skewers_label=skewers_label)"
   ]
  },
  {
   "cell_type": "code",
   "execution_count": 5,
   "metadata": {},
   "outputs": [
    {
     "name": "stderr",
     "output_type": "stream",
     "text": [
      " /Users/font/opt/anaconda3/envs/lya_cosmo/lib/python3.8/site-packages/paramz/parameterized.py:61: RuntimeWarning:Don't forget to initialize by self.initialize_parameter()!\n"
     ]
    },
    {
     "name": "stdout",
     "output_type": "stream",
     "text": [
      "Training GP on 270 points\n",
      "Optimised\n"
     ]
    }
   ],
   "source": [
    "## Build emulator\n",
    "paramList=['mF', 'sigT_Mpc', 'gamma', 'kF_Mpc', 'Delta2_p', 'n_p']\n",
    "# specify k range\n",
    "kmax_Mpc=8\n",
    "emu=gp_emulator.GPEmulator(basedir,p1d_label,skewers_label,z_max=z_max,\n",
    "                                verbose=False,paramList=paramList,train=True,\n",
    "                                asymmetric_kernel=True,rbf_only=True,\n",
    "                                emu_type=\"k_bin\",passarchive=archive,\n",
    "                                kmax_Mpc=kmax_Mpc)"
   ]
  },
  {
   "cell_type": "markdown",
   "metadata": {},
   "source": [
    "### Setup theories"
   ]
  },
  {
   "cell_type": "code",
   "execution_count": 6,
   "metadata": {},
   "outputs": [
    {
     "name": "stdout",
     "output_type": "stream",
     "text": [
      "Theory setup in 0.03140 seconds\n"
     ]
    }
   ],
   "source": [
    "t0=time.time()\n",
    "theory_fFF=full_theory.FullTheory(zs=data.z,emulator=emu,theta_MC=True,use_compression=False,use_camb_fz=False)\n",
    "t1=time.time()\n",
    "print(\"Theory setup in {0:.5f} seconds\".format(t1-t0))"
   ]
  },
  {
   "cell_type": "code",
   "execution_count": 7,
   "metadata": {},
   "outputs": [
    {
     "name": "stdout",
     "output_type": "stream",
     "text": [
      "Theory setup in 0.00632 seconds\n"
     ]
    }
   ],
   "source": [
    "t0=time.time()\n",
    "theory_fFT=full_theory.FullTheory(zs=data.z,emulator=emu,theta_MC=True,use_compression=False,use_camb_fz=True)\n",
    "t1=time.time()\n",
    "print(\"Theory setup in {0:.5f} seconds\".format(t1-t0))"
   ]
  },
  {
   "cell_type": "code",
   "execution_count": 8,
   "metadata": {},
   "outputs": [
    {
     "name": "stdout",
     "output_type": "stream",
     "text": [
      "Theory setup in 4.58524 seconds\n"
     ]
    }
   ],
   "source": [
    "t0=time.time()\n",
    "theory_fTF=full_theory.FullTheory(zs=data.z,emulator=emu,theta_MC=True,use_compression=True,use_camb_fz=False)\n",
    "t1=time.time()\n",
    "print(\"Theory setup in {0:.5f} seconds\".format(t1-t0))"
   ]
  },
  {
   "cell_type": "code",
   "execution_count": 9,
   "metadata": {},
   "outputs": [
    {
     "name": "stdout",
     "output_type": "stream",
     "text": [
      "Theory setup in 0.69507 seconds\n"
     ]
    }
   ],
   "source": [
    "t0=time.time()\n",
    "theory_fTT=full_theory.FullTheory(zs=data.z,emulator=emu,theta_MC=True,use_compression=True,use_camb_fz=True)\n",
    "t1=time.time()\n",
    "print(\"Theory setup in {0:.5f} seconds\".format(t1-t0))"
   ]
  },
  {
   "cell_type": "code",
   "execution_count": 10,
   "metadata": {},
   "outputs": [
    {
     "name": "stdout",
     "output_type": "stream",
     "text": [
      "Theory setup in 5.03240 seconds\n"
     ]
    }
   ],
   "source": [
    "t0=time.time()\n",
    "theory_lF=lya_theory.LyaTheory(zs=data.z,emulator=emu,use_camb_fz=False,verbose=False)\n",
    "t1=time.time()\n",
    "print(\"Theory setup in {0:.5f} seconds\".format(t1-t0))"
   ]
  },
  {
   "cell_type": "code",
   "execution_count": 11,
   "metadata": {},
   "outputs": [
    {
     "name": "stdout",
     "output_type": "stream",
     "text": [
      "Theory setup in 0.75186 seconds\n"
     ]
    }
   ],
   "source": [
    "t0=time.time()\n",
    "theory_lT=lya_theory.LyaTheory(zs=data.z,emulator=emu,use_camb_fz=True)\n",
    "t1=time.time()\n",
    "print(\"Theory setup in {0:.5f} seconds\".format(t1-t0))"
   ]
  },
  {
   "cell_type": "markdown",
   "metadata": {},
   "source": [
    "### Time theory predictions"
   ]
  },
  {
   "cell_type": "code",
   "execution_count": 12,
   "metadata": {},
   "outputs": [
    {
     "name": "stdout",
     "output_type": "stream",
     "text": [
      "chi2=75.61440 , computed in 0.41166 seconds\n",
      "chi2=75.61440 , computed in 0.44279 seconds\n",
      "chi2=75.25236 , computed in 0.80593 seconds\n",
      "chi2=75.25254 , computed in 0.43663 seconds\n"
     ]
    }
   ],
   "source": [
    "for theory in [theory_fFF,theory_fFT,theory_fTF,theory_fTT]:\n",
    "    free_param_limits=[[0.0099,0.011],[1.1e-09, 3.19e-09], [0.89, 1.05],[-0.2, 0.2]]\n",
    "    free_param_names=[\"cosmomc_theta\",\"As\",\"ns\",\"ln_tau_0\"]\n",
    "    like=likelihood.Likelihood(data=data,theory=theory,\n",
    "                            free_param_names=free_param_names,\n",
    "                            free_param_limits=free_param_limits,\n",
    "                            prior_Gauss_rms=None,include_CMB=False)\n",
    "    t0=time.time()\n",
    "    chi2=like.get_chi2(values=[0.46,0.49,0.51,0.51])\n",
    "    t1=time.time()\n",
    "    print(\"chi2={0:.5f} , computed in {1:.5f} seconds\".format(chi2,t1-t0))"
   ]
  },
  {
   "cell_type": "code",
   "execution_count": 13,
   "metadata": {},
   "outputs": [
    {
     "name": "stdout",
     "output_type": "stream",
     "text": [
      "chi2=18.81179 , computed in 0.03318 seconds\n",
      "chi2=18.81179 , computed in 0.02909 seconds\n"
     ]
    }
   ],
   "source": [
    "for theory in [theory_lF,theory_lT]:\n",
    "    free_param_names=[\"Delta2_star\",\"f_star\",\"ln_tau_0\"]\n",
    "    free_param_limits=[[0.24, 0.47], [-2.352, -2.25], [-0.2, 0.2]]\n",
    "    like=likelihood.Likelihood(data=data,theory=theory,\n",
    "                            free_param_names=free_param_names,\n",
    "                            free_param_limits=free_param_limits,\n",
    "                            prior_Gauss_rms=None,include_CMB=False)\n",
    "    t0=time.time()\n",
    "    chi2=like.get_chi2()\n",
    "    t1=time.time()\n",
    "    print(\"chi2={0:.5f} , computed in {1:.5f} seconds\".format(chi2,t1-t0))"
   ]
  },
  {
   "cell_type": "code",
   "execution_count": null,
   "metadata": {},
   "outputs": [],
   "source": []
  }
 ],
 "metadata": {
  "kernelspec": {
   "display_name": "Python 3",
   "language": "python",
   "name": "python3"
  },
  "language_info": {
   "codemirror_mode": {
    "name": "ipython",
    "version": 3
   },
   "file_extension": ".py",
   "mimetype": "text/x-python",
   "name": "python",
   "nbconvert_exporter": "python",
   "pygments_lexer": "ipython3",
   "version": "3.8.5"
  }
 },
 "nbformat": 4,
 "nbformat_minor": 4
}
