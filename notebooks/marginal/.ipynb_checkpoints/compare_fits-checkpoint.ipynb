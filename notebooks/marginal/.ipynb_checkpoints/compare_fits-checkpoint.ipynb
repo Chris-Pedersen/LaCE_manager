{
 "cells": [
  {
   "cell_type": "markdown",
   "metadata": {},
   "source": [
    "# Test KDE from MCMC chains\n"
   ]
  },
  {
   "cell_type": "code",
   "execution_count": null,
   "metadata": {},
   "outputs": [],
   "source": [
    "import matplotlib.pyplot as plt\n",
    "import numpy as np\n",
    "from scipy import stats\n",
    "from lace_manager.sampler import emcee_sampler\n",
    "from lace_manager.likelihood import marg_p1d_like"
   ]
  },
  {
   "cell_type": "code",
   "execution_count": null,
   "metadata": {},
   "outputs": [],
   "source": [
    "rootdir='/Users/font/Projects/LaCE_manager/lace_manager/sampler/chains/'\n",
    "subfolder=None"
   ]
  },
  {
   "cell_type": "markdown",
   "metadata": {},
   "source": [
    "### Load a single sampler, and plot posteriors"
   ]
  },
  {
   "cell_type": "code",
   "execution_count": null,
   "metadata": {},
   "outputs": [],
   "source": [
    "sampler=emcee_sampler.EmceeSampler(read_chain_file=6,\n",
    "                                subfolder=subfolder,rootdir=rootdir,\n",
    "                                train_when_reading=True,\n",
    "                                verbose=True)"
   ]
  },
  {
   "cell_type": "code",
   "execution_count": null,
   "metadata": {},
   "outputs": [],
   "source": [
    "#plot_params=['$A_s$','$n_s$','$\\Delta^2_\\star$','$n_\\star$']\n",
    "plot_params=['$\\Delta^2_\\star$','$n_\\star$']\n",
    "sampler.plot_corner(delta_lnprob_cut=50,plot_params=plot_params)"
   ]
  },
  {
   "cell_type": "code",
   "execution_count": null,
   "metadata": {},
   "outputs": [],
   "source": [
    "sampler.write_kde()"
   ]
  },
  {
   "cell_type": "code",
   "execution_count": null,
   "metadata": {},
   "outputs": [],
   "source": [
    "kde_fname='{}/kde.npz'.format(sampler.save_directory)\n",
    "kde_marg_p1d=marg_p1d_like.MargP1DLike(kde_fname=kde_fname)\n",
    "kde_marg_p1d.plot_log_like()"
   ]
  },
  {
   "cell_type": "markdown",
   "metadata": {},
   "source": [
    "# KDE from Gaussian"
   ]
  },
  {
   "cell_type": "code",
   "execution_count": null,
   "metadata": {},
   "outputs": [],
   "source": [
    "gauss_marg_p1d=marg_p1d_like.MargP1DLike(sim_label=sampler.like.data.sim_label,\n",
    "                                        reduced_IGM=True,polyfit=sampler.like.data.polyfit)\n",
    "gauss_marg_p1d.plot_log_like()"
   ]
  },
  {
   "cell_type": "code",
   "execution_count": null,
   "metadata": {},
   "outputs": [],
   "source": [
    "def write_kde_from_Gauss(gauss_marg_p1d,fname='test_gauss_kde.npz',Nsigmas=4,Nbins=40):\n",
    "    # figure out Gaussian mean and rms\n",
    "    mean_x,mean_y=gauss_marg_p1d.Gauss_mean\n",
    "    Gauss_cov=np.linalg.inv(gauss_marg_p1d.Gauss_icov)\n",
    "    rms_x,rms_y=np.sqrt(Gauss_cov.diagonal())\n",
    "    xmin = mean_x - Nsigmas*rms_x\n",
    "    xmax = mean_x + Nsigmas*rms_x\n",
    "    ymin = mean_y - Nsigmas*rms_y\n",
    "    ymax = mean_y + Nsigmas*rms_y\n",
    "    print('{:.3f} < Delta2_star < {:.3f}'.format(xmin,xmax))\n",
    "    print('{:.3f} < n_star < {:.3f}'.format(ymin,ymax))\n",
    "    # setup regular 2D grid for KDE\n",
    "    Nj=complex(0,Nbins)\n",
    "    X, Y = np.mgrid[xmin:xmax:Nj, ymin:ymax:Nj]\n",
    "    Z = np.empty_like(X)\n",
    "    for ix in range(Nbins):\n",
    "        for iy in range(Nbins):\n",
    "            log_like = gauss_marg_p1d.get_log_like(Delta2_star=X[ix,iy],n_star=Y[ix,iy])\n",
    "            # Z here should be density (likelihood)\n",
    "            Z[ix,iy] = np.exp(log_like)\n",
    "    np.savez(fname,D2_star=np.unique(X),n_star=np.unique(Y),density=Z)"
   ]
  },
  {
   "cell_type": "code",
   "execution_count": null,
   "metadata": {},
   "outputs": [],
   "source": [
    "write_kde_from_Gauss(gauss_marg_p1d,Nsigmas=4,Nbins=40)"
   ]
  },
  {
   "cell_type": "code",
   "execution_count": null,
   "metadata": {},
   "outputs": [],
   "source": [
    "gauss_kde_marg_p1d=marg_p1d_like.MargP1DLike(kde_fname='test_gauss_kde.npz')\n",
    "gauss_kde_marg_p1d.plot_log_like()"
   ]
  },
  {
   "cell_type": "code",
   "execution_count": null,
   "metadata": {},
   "outputs": [],
   "source": []
  }
 ],
 "metadata": {
  "kernelspec": {
   "display_name": "Python 3 (ipykernel)",
   "language": "python",
   "name": "python3"
  },
  "language_info": {
   "codemirror_mode": {
    "name": "ipython",
    "version": 3
   },
   "file_extension": ".py",
   "mimetype": "text/x-python",
   "name": "python",
   "nbconvert_exporter": "python",
   "pygments_lexer": "ipython3",
   "version": "3.8.13"
  }
 },
 "nbformat": 4,
 "nbformat_minor": 4
}
