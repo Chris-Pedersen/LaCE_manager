{
 "cells": [
  {
   "cell_type": "markdown",
   "metadata": {},
   "source": [
    "## Sampler template\n",
    "\n",
    "This notebook contains the basic syntax required to run a chain. We set up a mock data object, construct an emulator and likelihood object, and pass these to a sampler to run for a small number of steps."
   ]
  },
  {
   "cell_type": "code",
   "execution_count": 1,
   "metadata": {},
   "outputs": [],
   "source": [
    "%matplotlib inline\n",
    "import matplotlib.pyplot as plt\n",
    "import matplotlib as mpl\n",
    "mpl.rcParams['savefig.dpi'] = 140\n",
    "mpl.rcParams['figure.dpi'] = 140\n",
    "import numpy as np\n",
    "from chainconsumer import ChainConsumer\n",
    "# our own modules\n",
    "from lace.data import data_MPGADGET\n",
    "from lace.emulator import gp_emulator\n",
    "from lace.emulator import p1d_archive\n",
    "from lace.likelihood import likelihood\n",
    "from lace.sampler import emcee_sampler\n",
    "import time"
   ]
  },
  {
   "cell_type": "markdown",
   "metadata": {},
   "source": [
    "### Set up mock data\n",
    "\n",
    "Begin by picking a simulation to use as mock data, and creating a corresponding data object"
   ]
  },
  {
   "cell_type": "code",
   "execution_count": 2,
   "metadata": {},
   "outputs": [],
   "source": [
    "# specify simulation to use to generate synthetic data\n",
    "test_sim_label=\"central\"\n",
    "if type(test_sim_label)==int:\n",
    "    drop_sim_number=test_sim_label\n",
    "    print('will drop sim number {} from emulator'.format(drop_sim_number))\n",
    "else:\n",
    "    drop_sim_number=None"
   ]
  },
  {
   "cell_type": "code",
   "execution_count": 3,
   "metadata": {},
   "outputs": [
    {
     "name": "stdout",
     "output_type": "stream",
     "text": [
      "H0 = 6.7000E+01, Omega_b h^2 = 2.2000E-02, Omega_c h^2 = 1.2000E-01, Omega_k = -5.5511E-17, Omega_nu h^2 = 0.0000E+00, A_s = 2.0061E-09, n_s = 9.6757E-01, alpha_s = 0.0000E+00\n"
     ]
    }
   ],
   "source": [
    "# specify simulation suite and P1D mesurements\n",
    "basedir=\"/lace/emulator/sim_suites/Australia20/\"\n",
    "skewers_label='Ns500_wM0.05'\n",
    "p1d_label=None\n",
    "z_max=4.5\n",
    "data=data_MPGADGET.P1D_MPGADGET(basedir=basedir,\n",
    "                                skewers_label=skewers_label,\n",
    "                                sim_label=test_sim_label,\n",
    "                                zmax=z_max)"
   ]
  },
  {
   "cell_type": "markdown",
   "metadata": {},
   "source": [
    "### Emulator and training set\n",
    "\n",
    "Create a set of training data to train an emulator"
   ]
  },
  {
   "cell_type": "code",
   "execution_count": 4,
   "metadata": {},
   "outputs": [],
   "source": [
    "# Set up emulator training set\n",
    "z_max=4\n",
    "archive=p1d_archive.archiveP1D(basedir=basedir,drop_sim_number=drop_sim_number,\n",
    "                            drop_tau_rescalings=True,z_max=z_max,\n",
    "                            drop_temp_rescalings=True,skewers_label=skewers_label)"
   ]
  },
  {
   "cell_type": "code",
   "execution_count": 5,
   "metadata": {},
   "outputs": [],
   "source": [
    "use_nyx=False\n",
    "if use_nyx:\n",
    "    from lace.emulator import p1d_archive_Nyx\n",
    "    archive=p1d_archive_Nyx.archiveP1D_Nyx(fname=None,verbose=False)"
   ]
  },
  {
   "cell_type": "code",
   "execution_count": 6,
   "metadata": {},
   "outputs": [
    {
     "name": "stderr",
     "output_type": "stream",
     "text": [
      " /Users/font/opt/anaconda3/envs/lya_cosmo/lib/python3.8/site-packages/paramz/parameterized.py:61: RuntimeWarning:Don't forget to initialize by self.initialize_parameter()!\n"
     ]
    },
    {
     "name": "stdout",
     "output_type": "stream",
     "text": [
      "Training GP on 270 points\n",
      "Optimised\n"
     ]
    }
   ],
   "source": [
    "## Build emulator\n",
    "if use_nyx:\n",
    "    paramList=['mF', 'sigT_Mpc', 'gamma', 'Delta2_p', 'n_p']\n",
    "    kmax_Mpc=2\n",
    "else:\n",
    "    paramList=['mF', 'sigT_Mpc', 'gamma', 'kF_Mpc', 'Delta2_p', 'n_p']\n",
    "    kmax_Mpc=8\n",
    "\n",
    "emu=gp_emulator.GPEmulator(basedir,p1d_label,skewers_label,z_max=z_max,\n",
    "                                verbose=False,paramList=paramList,train=True,\n",
    "                                asymmetric_kernel=True,rbf_only=True,\n",
    "                                emu_type=\"k_bin\",passarchive=archive,\n",
    "                                kmax_Mpc=kmax_Mpc)"
   ]
  },
  {
   "cell_type": "markdown",
   "metadata": {},
   "source": [
    "### Set up a likelihood\n",
    "\n",
    "Here we chose which parameters we want to sample, over which range and chose a prior. We pass the data and emulator objects to the likelihood."
   ]
  },
  {
   "cell_type": "code",
   "execution_count": 7,
   "metadata": {},
   "outputs": [],
   "source": [
    "#free_param_limits=[[1.1e-09, 3.19e-09], [0.89, 1.05],[-0.2, 0.2]]\n",
    "#free_param_names=[\"As\",\"ns\",\"ln_tau_0\"]\n",
    "\n",
    "## Set up likelihood object\n",
    "if True:\n",
    "    free_param_names=[\"n_star\",\"ln_tau_0\",\"ln_sigT_kms_0\",\"ln_gamma_0\"]\n",
    "    free_param_limits=[[-2.352, -2.25],[-0.2, 0.2], [-0.5, 0.5], [-0.5, 0.5]]    \n",
    "else:\n",
    "    free_param_names=[\"Delta2_star\",\"n_star\",\"ln_tau_0\"]\n",
    "    free_param_limits=[[0.24, 0.47], [-2.352, -2.25], [-0.2, 0.2]]\n",
    "prior=None ## None for uniform prior, otherwise this value sets the width of the Gaussian within the unit prior volume\n",
    "\n",
    "## Create a compressed likelihood object, might not be used in the rest of the notebook\n",
    "## but just for example syntax\n",
    "like_compressed=likelihood.Likelihood(data=data,emulator=emu,\n",
    "                            free_param_names=free_param_names,\n",
    "                            free_param_limits=free_param_limits,\n",
    "                            prior_Gauss_rms=prior)"
   ]
  },
  {
   "cell_type": "code",
   "execution_count": 8,
   "metadata": {},
   "outputs": [
    {
     "name": "stdout",
     "output_type": "stream",
     "text": [
      "No cosmology parameters are varied\n"
     ]
    }
   ],
   "source": [
    "#free_param_limits=[[1.1e-09, 3.19e-09], [0.89, 1.05],[-0.2, 0.2]]\n",
    "#free_param_names=[\"As\",\"ns\",\"ln_tau_0\"]\n",
    "\n",
    "## Set up likelihood object\n",
    "free_param_limits=[[0.0099,0.0109],[-0.2, 0.2]]\n",
    "free_param_names=[\"cosmomc_theta\",\"ln_tau_0\"]\n",
    "#free_param_limits=[[0.0099,0.0109],[1.1e-09, 3.19e-09], [0.89, 1.05],[-0.2, 0.2]]\n",
    "#free_param_names=[\"cosmomc_theta\",\"As\",\"ns\",\"ln_tau_0\"]\n",
    "prior=None ## None for uniform prior, otherwise this value sets the width of the Gaussian within the unit prior volume\n",
    "\n",
    "## Create a likelihood object using CMB parameters and including the CMB likelihood\n",
    "like=likelihood.Likelihood(data=data,emulator=emu,\n",
    "                            free_param_names=free_param_names,\n",
    "                            free_param_limits=free_param_limits,\n",
    "                            prior_Gauss_rms=prior,pivot_scalar=0.05,\n",
    "                            include_CMB=True)"
   ]
  },
  {
   "cell_type": "markdown",
   "metadata": {},
   "source": [
    "### Sampler object\n",
    "\n",
    "Here we configure our sampler, set the number of walkers, and decide whether or not we want to save the chain to be resumed or plot later on."
   ]
  },
  {
   "cell_type": "code",
   "execution_count": 9,
   "metadata": {},
   "outputs": [],
   "source": [
    "## Set up sampler\n",
    "sampler_compressed = emcee_sampler.EmceeSampler(like=like_compressed,\n",
    "                        verbose=False,\n",
    "                        nwalkers=20,\n",
    "                        save_chain=False, ## Small test run, don't create a save folder\n",
    "                        progress=True)"
   ]
  },
  {
   "cell_type": "code",
   "execution_count": 10,
   "metadata": {},
   "outputs": [
    {
     "name": "stdout",
     "output_type": "stream",
     "text": [
      "n_star -2.299602957638402 -2.352 -2.25\n",
      "ln_tau_0 0.0 -0.2 0.2\n",
      "ln_sigT_kms_0 0.0 -0.5 0.5\n",
      "ln_gamma_0 0.0 -0.5 0.5\n"
     ]
    }
   ],
   "source": [
    "for p in sampler_compressed.like.free_params:\n",
    "    print(p.name,p.value,p.min_value,p.max_value)"
   ]
  },
  {
   "cell_type": "code",
   "execution_count": null,
   "metadata": {},
   "outputs": [
    {
     "name": "stderr",
     "output_type": "stream",
     "text": [
      " 25%|██▌       | 125/500 [01:10<04:35,  1.36it/s]"
     ]
    }
   ],
   "source": [
    "n_burn_in=100\n",
    "n_steps=400 ## Max number of steps to run\n",
    "\n",
    "start = time.time()\n",
    "sampler_compressed.run_sampler(n_burn_in,n_steps,parallel=False)\n",
    "end = time.time()\n",
    "sampler_time = end - start\n",
    "print(\"Sampling took {0:.1f} seconds\".format(sampler_time))"
   ]
  },
  {
   "cell_type": "code",
   "execution_count": null,
   "metadata": {},
   "outputs": [],
   "source": [
    "sampler_compressed.plot_corner(cmb_prior=False)\n",
    "plt.savefig('test_sampler.png')"
   ]
  },
  {
   "cell_type": "code",
   "execution_count": null,
   "metadata": {},
   "outputs": [],
   "source": [
    "## Set up sampler\n",
    "sampler = emcee_sampler.EmceeSampler(like=like,verbose=False,\n",
    "                        nwalkers=10,\n",
    "                        save_chain=False, ## Small test run, don't create a save folder\n",
    "                        progress=True)"
   ]
  },
  {
   "cell_type": "code",
   "execution_count": null,
   "metadata": {},
   "outputs": [],
   "source": [
    "for p in sampler.like.free_params:\n",
    "    print(p.name,p.value,p.min_value,p.max_value)"
   ]
  },
  {
   "cell_type": "code",
   "execution_count": null,
   "metadata": {},
   "outputs": [],
   "source": [
    "n_burn_in=20\n",
    "n_steps=50 ## Max number of steps to run\n",
    "\n",
    "start = time.time()\n",
    "sampler.run_sampler(n_burn_in,n_steps,parallel=False)\n",
    "end = time.time()\n",
    "sampler_time = end - start\n",
    "print(\"Sampling took {0:.1f} seconds\".format(sampler_time))"
   ]
  },
  {
   "cell_type": "code",
   "execution_count": null,
   "metadata": {},
   "outputs": [],
   "source": [
    "sampler.plot_corner(cmb_prior=True)\n",
    "plt.savefig('test_sampler_2.png')"
   ]
  },
  {
   "cell_type": "code",
   "execution_count": null,
   "metadata": {},
   "outputs": [],
   "source": []
  },
  {
   "cell_type": "code",
   "execution_count": null,
   "metadata": {},
   "outputs": [],
   "source": []
  },
  {
   "cell_type": "code",
   "execution_count": null,
   "metadata": {},
   "outputs": [],
   "source": []
  },
  {
   "cell_type": "code",
   "execution_count": null,
   "metadata": {},
   "outputs": [],
   "source": []
  }
 ],
 "metadata": {
  "kernelspec": {
   "display_name": "Python 3",
   "language": "python",
   "name": "python3"
  },
  "language_info": {
   "codemirror_mode": {
    "name": "ipython",
    "version": 3
   },
   "file_extension": ".py",
   "mimetype": "text/x-python",
   "name": "python",
   "nbconvert_exporter": "python",
   "pygments_lexer": "ipython3",
   "version": "3.8.5"
  }
 },
 "nbformat": 4,
 "nbformat_minor": 4
}
