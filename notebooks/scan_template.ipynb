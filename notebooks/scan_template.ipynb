{
 "cells": [
  {
   "cell_type": "markdown",
   "metadata": {},
   "source": [
    "## Scanner template\n",
    "\n",
    "This notebook contains the basic syntax required to run a chi2 scan"
   ]
  },
  {
   "cell_type": "code",
   "execution_count": 1,
   "metadata": {},
   "outputs": [],
   "source": [
    "%matplotlib inline\n",
    "import matplotlib.pyplot as plt\n",
    "import matplotlib as mpl\n",
    "mpl.rcParams['savefig.dpi'] = 140\n",
    "mpl.rcParams['figure.dpi'] = 140\n",
    "import numpy as np\n",
    "import time\n",
    "import scipy\n",
    "# our own modules\n",
    "from lace.cosmo import camb_cosmo\n",
    "from lace.cosmo import fit_linP\n",
    "from lace.emulator import gp_emulator\n",
    "from lace.emulator import p1d_archive\n",
    "from lace_manager.data import data_MPGADGET\n",
    "from lace_manager.likelihood import lya_theory\n",
    "from lace_manager.likelihood import likelihood\n",
    "from lace_manager.sampler import iminuit_minimizer"
   ]
  },
  {
   "cell_type": "markdown",
   "metadata": {},
   "source": [
    "### Set up mock data\n",
    "\n",
    "Begin by picking a simulation to use as mock data, and creating a corresponding data object"
   ]
  },
  {
   "cell_type": "code",
   "execution_count": 2,
   "metadata": {},
   "outputs": [],
   "source": [
    "# specify simulation to use to generate synthetic data\n",
    "test_sim_label=\"central\"\n",
    "if type(test_sim_label)==int:\n",
    "    drop_sim_number=test_sim_label\n",
    "    print('will drop sim number {} from emulator'.format(drop_sim_number))\n",
    "else:\n",
    "    drop_sim_number=None"
   ]
  },
  {
   "cell_type": "code",
   "execution_count": 3,
   "metadata": {},
   "outputs": [
    {
     "name": "stdout",
     "output_type": "stream",
     "text": [
      "H0 = 6.7000E+01, Omega_b h^2 = 2.2000E-02, Omega_c h^2 = 1.2000E-01, Omega_k = -5.5511E-17, Omega_nu h^2 = 0.0000E+00, A_s = 2.0061E-09, n_s = 9.6757E-01, alpha_s = 0.0000E+00\n"
     ]
    }
   ],
   "source": [
    "# specify simulation suite and P1D mesurements\n",
    "basedir=\"/lace/emulator/sim_suites/Australia20/\"\n",
    "z_max=4.5\n",
    "emu_type=\"polyfit\"\n",
    "data=data_MPGADGET.P1D_MPGADGET(basedir=basedir,sim_label=test_sim_label,\n",
    "                                zmax=z_max,polyfit=(emu_type==\"polyfit\"))"
   ]
  },
  {
   "cell_type": "markdown",
   "metadata": {},
   "source": [
    "### Emulator and training set\n",
    "\n",
    "Create a set of training data to train an emulator"
   ]
  },
  {
   "cell_type": "code",
   "execution_count": 4,
   "metadata": {},
   "outputs": [],
   "source": [
    "# Set up emulator training set\n",
    "archive=p1d_archive.archiveP1D(basedir=basedir,drop_sim_number=drop_sim_number,z_max=z_max,\n",
    "                            drop_tau_rescalings=True,drop_temp_rescalings=True,)"
   ]
  },
  {
   "cell_type": "code",
   "execution_count": 5,
   "metadata": {},
   "outputs": [
    {
     "name": "stderr",
     "output_type": "stream",
     "text": [
      " /Users/font/opt/anaconda3/envs/lace_env/lib/python3.8/site-packages/paramz/parameterized.py:61: RuntimeWarning:Don't forget to initialize by self.initialize_parameter()!\n"
     ]
    },
    {
     "name": "stdout",
     "output_type": "stream",
     "text": [
      "Training GP on 330 points\n",
      "GPs optimised in 0.30 seconds\n"
     ]
    }
   ],
   "source": [
    "paramList=['mF', 'sigT_Mpc', 'gamma', 'kF_Mpc', 'Delta2_p', 'n_p']\n",
    "kmax_Mpc=8\n",
    "emu=gp_emulator.GPEmulator(basedir,z_max=z_max,\n",
    "                                verbose=False,paramList=paramList,train=True,\n",
    "                                asymmetric_kernel=True,rbf_only=True,\n",
    "                                emu_type=emu_type,passarchive=archive,\n",
    "                                kmax_Mpc=kmax_Mpc)"
   ]
  },
  {
   "cell_type": "markdown",
   "metadata": {},
   "source": [
    "### Specify free likelihood parameters in minimization (IGM only)"
   ]
  },
  {
   "cell_type": "code",
   "execution_count": 6,
   "metadata": {},
   "outputs": [],
   "source": [
    "#free_param_names=[\"ln_tau_0\",\"ln_tau_1\",\"ln_gamma_0\",\"ln_gamma_1\"]\n",
    "free_param_names=[\"ln_tau_0\"]\n",
    "prior=0.5"
   ]
  },
  {
   "cell_type": "markdown",
   "metadata": {},
   "source": [
    "### Define fiducial cosmology to set new cosmologies for each pair of (Delta2_star, n_star)"
   ]
  },
  {
   "cell_type": "code",
   "execution_count": 7,
   "metadata": {},
   "outputs": [],
   "source": [
    "cosmo_fid=camb_cosmo.get_cosmology()\n",
    "fid_info={}\n",
    "fid_info['As']=cosmo_fid.InitPower.As\n",
    "fid_info['ns']=cosmo_fid.InitPower.ns\n",
    "ks_Mpc=cosmo_fid.InitPower.pivot_scalar"
   ]
  },
  {
   "cell_type": "code",
   "execution_count": 8,
   "metadata": {},
   "outputs": [
    {
     "name": "stdout",
     "output_type": "stream",
     "text": [
      "{'As': 2.1e-09, 'ns': 0.965, 'Delta2_star': 0.36031520035842585, 'n_star': -2.2995735858530693}\n"
     ]
    }
   ],
   "source": [
    "z_star=3\n",
    "kp_kms=0.009\n",
    "camb_results_fid=camb_cosmo.get_camb_results(cosmo_fid,zs=[z_star])\n",
    "linP_params_fid=fit_linP.parameterize_cosmology_kms(cosmo=cosmo_fid,\n",
    "                        camb_results=camb_results_fid,z_star=z_star,kp_kms=kp_kms)\n",
    "fid_info['Delta2_star']=linP_params_fid['Delta2_star']\n",
    "fid_info['n_star']=linP_params_fid['n_star']\n",
    "print(fid_info)"
   ]
  },
  {
   "cell_type": "code",
   "execution_count": 9,
   "metadata": {},
   "outputs": [
    {
     "name": "stdout",
     "output_type": "stream",
     "text": [
      "kp_Mpc 0.6900412049263259\n",
      "ln_kp_ks 2.6247283076646832\n"
     ]
    }
   ],
   "source": [
    "H_star=camb_results_fid.hubble_parameter(z_star)\n",
    "dkms_dMpc=H_star/(1+z_star)\n",
    "kp_Mpc=kp_kms*dkms_dMpc\n",
    "print('kp_Mpc',kp_Mpc)\n",
    "ln_kp_ks=np.log(kp_Mpc/ks_Mpc)\n",
    "print('ln_kp_ks',ln_kp_ks)"
   ]
  },
  {
   "cell_type": "code",
   "execution_count": 10,
   "metadata": {},
   "outputs": [],
   "source": [
    "def get_max_log_like(fid_info,Delta2_star,n_star,debug=False):\n",
    "    ns=fid_info['ns']+(n_star-fid_info['n_star'])\n",
    "    ln_ratio_As=np.log(Delta2_star/fid_info['Delta2_star'])-(n_star-fid_info['n_star'])*ln_kp_ks\n",
    "    As=fid_info['As']*np.exp(ln_ratio_As)\n",
    "    \n",
    "    cosmo_fid=camb_cosmo.get_cosmology(As=As,ns=ns)\n",
    "    if debug:\n",
    "        camb_cosmo.print_info(cosmo_fid)\n",
    "        camb_results=camb_cosmo.get_camb_results(cosmo_fid,zs=[z_star])\n",
    "        linP_params=fit_linP.parameterize_cosmology_kms(cosmo=cosmo_fid,\n",
    "                    camb_results=camb_results,z_star=z_star,kp_kms=kp_kms)\n",
    "        print(Delta2_star,linP_params['Delta2_star'])\n",
    "        print(n_star,linP_params['n_star'])\n",
    "    \n",
    "    theory=lya_theory.LyaTheory(zs=data.z,emulator=emu,cosmo_fid=cosmo_fid)\n",
    "    like=likelihood.Likelihood(data=data,theory=theory,\n",
    "                            free_param_names=free_param_names,\n",
    "                            prior_Gauss_rms=prior,include_CMB=False)\n",
    "    minimizer = iminuit_minimizer.IminuitMinimizer(like,print_level=0)\n",
    "    minimizer.minimize(compute_hesse=False)\n",
    "    return -minimizer.minimizer.fval"
   ]
  },
  {
   "cell_type": "code",
   "execution_count": 11,
   "metadata": {},
   "outputs": [
    {
     "name": "stdout",
     "output_type": "stream",
     "text": [
      "H0 = 6.7000E+01, Omega_b h^2 = 2.2000E-02, Omega_c h^2 = 1.2000E-01, Omega_k = 0.0000E+00, Omega_nu h^2 = 0.0000E+00, A_s = 2.0965E-09, n_s = 9.5457E-01, alpha_s = 0.0000E+00\n",
      "0.35 0.3499999999999979\n",
      "-2.31 -2.3100000000000005\n"
     ]
    },
    {
     "data": {
      "text/plain": [
       "164.63257092562722"
      ]
     },
     "execution_count": 11,
     "metadata": {},
     "output_type": "execute_result"
    }
   ],
   "source": [
    "get_max_log_like(fid_info,Delta2_star=0.35,n_star=-2.31,debug=True)"
   ]
  },
  {
   "cell_type": "code",
   "execution_count": 12,
   "metadata": {},
   "outputs": [],
   "source": [
    "scan_N=10\n",
    "min_Delta2_star=0.32\n",
    "max_Delta2_star=0.38\n",
    "min_n_star=-2.32\n",
    "max_n_star=-2.28\n",
    "Nj=complex(0,scan_N)\n",
    "scan_Delta2_star, scan_n_star = np.mgrid[min_Delta2_star:max_Delta2_star:Nj, min_n_star:max_n_star:Nj]\n",
    "scan_log_like = np.empty_like(scan_Delta2_star)"
   ]
  },
  {
   "cell_type": "code",
   "execution_count": 13,
   "metadata": {},
   "outputs": [
    {
     "name": "stdout",
     "output_type": "stream",
     "text": [
      "17.5236 seconds to run 10 / 100 minimizations\n",
      "30.6205 seconds to run 20 / 100 minimizations\n",
      "42.6648 seconds to run 30 / 100 minimizations\n",
      "54.4806 seconds to run 40 / 100 minimizations\n",
      "65.9784 seconds to run 50 / 100 minimizations\n",
      "78.0319 seconds to run 60 / 100 minimizations\n",
      "90.4128 seconds to run 70 / 100 minimizations\n",
      "102.5759 seconds to run 80 / 100 minimizations\n",
      "115.0743 seconds to run 90 / 100 minimizations\n",
      "127.2753 seconds to run 100 / 100 minimizations\n",
      "127.2755 seconds to run the scan\n"
     ]
    }
   ],
   "source": [
    "start = time.time()\n",
    "for i in range(scan_N):\n",
    "    for j in range(scan_N):\n",
    "        Delta2_star=scan_Delta2_star[i,j]\n",
    "        n_star=scan_n_star[i,j]\n",
    "        scan_log_like[i,j]=get_max_log_like(fid_info,Delta2_star=Delta2_star,n_star=n_star)\n",
    "    end=time.time()\n",
    "    print('{:.4f} seconds to run {} / {} minimizations'.format(end-start,(i+1)*scan_N,scan_N*scan_N))\n",
    "end = time.time()\n",
    "print('{:.4f} seconds to run the scan'.format(end-start))"
   ]
  },
  {
   "cell_type": "code",
   "execution_count": 14,
   "metadata": {},
   "outputs": [
    {
     "data": {
      "text/plain": [
       "<matplotlib.colorbar.Colorbar at 0x7fc0aae54850>"
      ]
     },
     "execution_count": 14,
     "metadata": {},
     "output_type": "execute_result"
    },
    {
     "data": {
      "image/png": "[encoded data removed]",
      "text/plain": [
       "<Figure size 840x560 with 2 Axes>"
      ]
     },
     "metadata": {
      "needs_background": "light"
     },
     "output_type": "display_data"
    }
   ],
   "source": [
    "max_log_like=np.max(scan_log_like)\n",
    "prob=np.exp(scan_log_like-max_log_like)\n",
    "min_prob=0.0001\n",
    "#plt.figure(figsize=[6,8])\n",
    "plt.imshow(np.rot90(prob), cmap=plt.cm.gist_earth_r,\n",
    "           extent=[min_Delta2_star, max_Delta2_star, min_n_star, max_n_star])\n",
    "#           vmin=min_prob,vmax=1.0)\n",
    "plt.xlabel(r'$\\Delta^2_\\star$')\n",
    "plt.ylabel(r'$n_\\star$')\n",
    "plt.colorbar()"
   ]
  },
  {
   "cell_type": "markdown",
   "metadata": {},
   "source": [
    "### Write / read scan to / from file"
   ]
  },
  {
   "cell_type": "code",
   "execution_count": 15,
   "metadata": {},
   "outputs": [],
   "source": [
    "fname='test_scan.npz'\n",
    "np.savez(fname,Delta2_star=np.unique(scan_Delta2_star),n_star=np.unique(scan_n_star),log_like=scan_log_like)"
   ]
  },
  {
   "cell_type": "code",
   "execution_count": 16,
   "metadata": {},
   "outputs": [],
   "source": [
    "# open binary file\n",
    "scan_data = np.load(fname)\n",
    "# read 2D grid of parameters and log_like scan\n",
    "Delta2_star=scan_data['Delta2_star']\n",
    "n_star=scan_data['n_star']\n",
    "log_like=scan_data['log_like']\n",
    "max_log_like=np.max(log_like)\n",
    "log_like-=max_log_like\n",
    "# setup interpolator for normalised log likelihood\n",
    "log_like_interp=scipy.interpolate.RectBivariateSpline(Delta2_star,n_star,log_like)"
   ]
  },
  {
   "cell_type": "markdown",
   "metadata": {},
   "source": [
    "### Plot log_like scan using interpolation"
   ]
  },
  {
   "cell_type": "code",
   "execution_count": 17,
   "metadata": {},
   "outputs": [],
   "source": [
    "scan_N=200\n",
    "min_Delta2_star=np.min(Delta2_star)\n",
    "max_Delta2_star=np.max(Delta2_star)\n",
    "min_n_star=np.min(n_star)\n",
    "max_n_star=np.max(n_star)\n",
    "Nj=complex(0,scan_N)\n",
    "X,Y = np.mgrid[min_Delta2_star:max_Delta2_star:Nj, min_n_star:max_n_star:Nj]\n",
    "Z = np.empty_like(X)\n",
    "for ix in range(scan_N):\n",
    "    for iy in range(scan_N):\n",
    "        Z[ix,iy] = log_like_interp.ev(X[ix,iy],Y[ix,iy])"
   ]
  },
  {
   "cell_type": "code",
   "execution_count": 18,
   "metadata": {},
   "outputs": [
    {
     "data": {
      "text/plain": [
       "<matplotlib.colorbar.Colorbar at 0x7fc0a88ccdc0>"
      ]
     },
     "execution_count": 18,
     "metadata": {},
     "output_type": "execute_result"
    },
    {
     "data": {
      "image/png": "[encoded data removed]",
      "text/plain": [
       "<Figure size 840x560 with 2 Axes>"
      ]
     },
     "metadata": {
      "needs_background": "light"
     },
     "output_type": "display_data"
    }
   ],
   "source": [
    "prob=np.exp(Z)\n",
    "min_prob=0.0001\n",
    "cmap=plt.cm.gist_earth_r\n",
    "extent=[min_Delta2_star,max_Delta2_star,min_n_star,max_n_star]\n",
    "plt.imshow(np.rot90(prob),cmap=cmap,extent=extent,vmin=min_prob,vmax=1.0)\n",
    "plt.xlabel(r'$\\Delta_\\star$',fontsize=16)\n",
    "plt.ylabel(r'$n_\\star$',fontsize=16)\n",
    "plt.colorbar()"
   ]
  },
  {
   "cell_type": "code",
   "execution_count": null,
   "metadata": {},
   "outputs": [],
   "source": []
  }
 ],
 "metadata": {
  "kernelspec": {
   "display_name": "Python 3 (ipykernel)",
   "language": "python",
   "name": "python3"
  },
  "language_info": {
   "codemirror_mode": {
    "name": "ipython",
    "version": 3
   },
   "file_extension": ".py",
   "mimetype": "text/x-python",
   "name": "python",
   "nbconvert_exporter": "python",
   "pygments_lexer": "ipython3",
   "version": "3.8.13"
  }
 },
 "nbformat": 4,
 "nbformat_minor": 4
}
