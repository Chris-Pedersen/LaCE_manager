{
 "cells": [
  {
   "cell_type": "markdown",
   "metadata": {},
   "source": [
    "## Scanner template\n",
    "\n",
    "This notebook contains the basic syntax required to run a chi2 scan"
   ]
  },
  {
   "cell_type": "code",
   "execution_count": 1,
   "metadata": {},
   "outputs": [],
   "source": [
    "%matplotlib inline\n",
    "import matplotlib.pyplot as plt\n",
    "import matplotlib as mpl\n",
    "mpl.rcParams['savefig.dpi'] = 140\n",
    "mpl.rcParams['figure.dpi'] = 140\n",
    "import numpy as np\n",
    "import time\n",
    "# our own modules\n",
    "from lace.cosmo import camb_cosmo\n",
    "from lace.emulator import gp_emulator\n",
    "from lace.emulator import p1d_archive\n",
    "from lace_manager.data import data_MPGADGET\n",
    "from lace_manager.likelihood import lya_theory\n",
    "from lace_manager.likelihood import likelihood\n",
    "from lace_manager.sampler import iminuit_minimizer"
   ]
  },
  {
   "cell_type": "markdown",
   "metadata": {},
   "source": [
    "### Set up mock data\n",
    "\n",
    "Begin by picking a simulation to use as mock data, and creating a corresponding data object"
   ]
  },
  {
   "cell_type": "code",
   "execution_count": 2,
   "metadata": {},
   "outputs": [],
   "source": [
    "# specify simulation to use to generate synthetic data\n",
    "test_sim_label=\"central\"\n",
    "if type(test_sim_label)==int:\n",
    "    drop_sim_number=test_sim_label\n",
    "    print('will drop sim number {} from emulator'.format(drop_sim_number))\n",
    "else:\n",
    "    drop_sim_number=None"
   ]
  },
  {
   "cell_type": "code",
   "execution_count": 3,
   "metadata": {},
   "outputs": [
    {
     "name": "stdout",
     "output_type": "stream",
     "text": [
      "H0 = 6.7000E+01, Omega_b h^2 = 2.2000E-02, Omega_c h^2 = 1.2000E-01, Omega_k = -5.5511E-17, Omega_nu h^2 = 0.0000E+00, A_s = 2.0061E-09, n_s = 9.6757E-01, alpha_s = 0.0000E+00\n"
     ]
    }
   ],
   "source": [
    "# specify simulation suite and P1D mesurements\n",
    "basedir=\"/lace/emulator/sim_suites/Australia20/\"\n",
    "z_max=4.5\n",
    "emu_type=\"polyfit\"\n",
    "data=data_MPGADGET.P1D_MPGADGET(basedir=basedir,sim_label=test_sim_label,\n",
    "                                zmax=z_max,polyfit=(emu_type==\"polyfit\"))"
   ]
  },
  {
   "cell_type": "markdown",
   "metadata": {},
   "source": [
    "### Emulator and training set\n",
    "\n",
    "Create a set of training data to train an emulator"
   ]
  },
  {
   "cell_type": "code",
   "execution_count": 4,
   "metadata": {},
   "outputs": [],
   "source": [
    "# Set up emulator training set\n",
    "archive=p1d_archive.archiveP1D(basedir=basedir,drop_sim_number=drop_sim_number,z_max=z_max,\n",
    "                            drop_tau_rescalings=True,drop_temp_rescalings=True,)"
   ]
  },
  {
   "cell_type": "code",
   "execution_count": 5,
   "metadata": {},
   "outputs": [
    {
     "name": "stderr",
     "output_type": "stream",
     "text": [
      " /Users/font/opt/anaconda3/envs/lace_env/lib/python3.8/site-packages/paramz/parameterized.py:61: RuntimeWarning:Don't forget to initialize by self.initialize_parameter()!\n"
     ]
    },
    {
     "name": "stdout",
     "output_type": "stream",
     "text": [
      "Training GP on 330 points\n",
      "GPs optimised in 0.22 seconds\n"
     ]
    }
   ],
   "source": [
    "paramList=['mF', 'sigT_Mpc', 'gamma', 'kF_Mpc', 'Delta2_p', 'n_p']\n",
    "kmax_Mpc=8\n",
    "emu=gp_emulator.GPEmulator(basedir,z_max=z_max,\n",
    "                                verbose=False,paramList=paramList,train=True,\n",
    "                                asymmetric_kernel=True,rbf_only=True,\n",
    "                                emu_type=emu_type,passarchive=archive,\n",
    "                                kmax_Mpc=kmax_Mpc)"
   ]
  },
  {
   "cell_type": "markdown",
   "metadata": {},
   "source": [
    "### For different values of $n_s$ will minimize over ($\\Delta^2_\\star$, $\\ln \\tau_0$)"
   ]
  },
  {
   "cell_type": "code",
   "execution_count": 6,
   "metadata": {},
   "outputs": [],
   "source": [
    "free_param_names=[\"ln_tau_0\",\"Delta2_star\"]\n",
    "prior=0.5"
   ]
  },
  {
   "cell_type": "code",
   "execution_count": 7,
   "metadata": {},
   "outputs": [],
   "source": [
    "scan_N=50\n",
    "scan_ns=np.linspace(0.93,1.0,scan_N)\n",
    "scan_log_like=np.empty_like(scan_ns)"
   ]
  },
  {
   "cell_type": "code",
   "execution_count": 8,
   "metadata": {},
   "outputs": [
    {
     "name": "stdout",
     "output_type": "stream",
     "text": [
      "H0 = 6.7000E+01, Omega_b h^2 = 2.2000E-02, Omega_c h^2 = 1.2000E-01, Omega_k = 0.0000E+00, Omega_nu h^2 = 0.0000E+00, A_s = 2.1000E-09, n_s = 9.3000E-01, alpha_s = 0.0000E+00\n",
      "will run migrad\n",
      "H0 = 6.7000E+01, Omega_b h^2 = 2.2000E-02, Omega_c h^2 = 1.2000E-01, Omega_k = 0.0000E+00, Omega_nu h^2 = 0.0000E+00, A_s = 2.1000E-09, n_s = 9.3143E-01, alpha_s = 0.0000E+00\n",
      "will run migrad\n",
      "H0 = 6.7000E+01, Omega_b h^2 = 2.2000E-02, Omega_c h^2 = 1.2000E-01, Omega_k = 0.0000E+00, Omega_nu h^2 = 0.0000E+00, A_s = 2.1000E-09, n_s = 9.3286E-01, alpha_s = 0.0000E+00\n",
      "will run migrad\n",
      "H0 = 6.7000E+01, Omega_b h^2 = 2.2000E-02, Omega_c h^2 = 1.2000E-01, Omega_k = 0.0000E+00, Omega_nu h^2 = 0.0000E+00, A_s = 2.1000E-09, n_s = 9.3429E-01, alpha_s = 0.0000E+00\n",
      "will run migrad\n",
      "H0 = 6.7000E+01, Omega_b h^2 = 2.2000E-02, Omega_c h^2 = 1.2000E-01, Omega_k = 0.0000E+00, Omega_nu h^2 = 0.0000E+00, A_s = 2.1000E-09, n_s = 9.3571E-01, alpha_s = 0.0000E+00\n",
      "will run migrad\n",
      "H0 = 6.7000E+01, Omega_b h^2 = 2.2000E-02, Omega_c h^2 = 1.2000E-01, Omega_k = 0.0000E+00, Omega_nu h^2 = 0.0000E+00, A_s = 2.1000E-09, n_s = 9.3714E-01, alpha_s = 0.0000E+00\n",
      "will run migrad\n",
      "H0 = 6.7000E+01, Omega_b h^2 = 2.2000E-02, Omega_c h^2 = 1.2000E-01, Omega_k = 0.0000E+00, Omega_nu h^2 = 0.0000E+00, A_s = 2.1000E-09, n_s = 9.3857E-01, alpha_s = 0.0000E+00\n",
      "will run migrad\n",
      "H0 = 6.7000E+01, Omega_b h^2 = 2.2000E-02, Omega_c h^2 = 1.2000E-01, Omega_k = 0.0000E+00, Omega_nu h^2 = 0.0000E+00, A_s = 2.1000E-09, n_s = 9.4000E-01, alpha_s = 0.0000E+00\n",
      "will run migrad\n",
      "H0 = 6.7000E+01, Omega_b h^2 = 2.2000E-02, Omega_c h^2 = 1.2000E-01, Omega_k = 0.0000E+00, Omega_nu h^2 = 0.0000E+00, A_s = 2.1000E-09, n_s = 9.4143E-01, alpha_s = 0.0000E+00\n",
      "will run migrad\n",
      "H0 = 6.7000E+01, Omega_b h^2 = 2.2000E-02, Omega_c h^2 = 1.2000E-01, Omega_k = 0.0000E+00, Omega_nu h^2 = 0.0000E+00, A_s = 2.1000E-09, n_s = 9.4286E-01, alpha_s = 0.0000E+00\n",
      "will run migrad\n",
      "H0 = 6.7000E+01, Omega_b h^2 = 2.2000E-02, Omega_c h^2 = 1.2000E-01, Omega_k = 0.0000E+00, Omega_nu h^2 = 0.0000E+00, A_s = 2.1000E-09, n_s = 9.4429E-01, alpha_s = 0.0000E+00\n",
      "will run migrad\n",
      "H0 = 6.7000E+01, Omega_b h^2 = 2.2000E-02, Omega_c h^2 = 1.2000E-01, Omega_k = 0.0000E+00, Omega_nu h^2 = 0.0000E+00, A_s = 2.1000E-09, n_s = 9.4571E-01, alpha_s = 0.0000E+00\n",
      "will run migrad\n",
      "H0 = 6.7000E+01, Omega_b h^2 = 2.2000E-02, Omega_c h^2 = 1.2000E-01, Omega_k = 0.0000E+00, Omega_nu h^2 = 0.0000E+00, A_s = 2.1000E-09, n_s = 9.4714E-01, alpha_s = 0.0000E+00\n",
      "will run migrad\n",
      "H0 = 6.7000E+01, Omega_b h^2 = 2.2000E-02, Omega_c h^2 = 1.2000E-01, Omega_k = 0.0000E+00, Omega_nu h^2 = 0.0000E+00, A_s = 2.1000E-09, n_s = 9.4857E-01, alpha_s = 0.0000E+00\n",
      "will run migrad\n",
      "H0 = 6.7000E+01, Omega_b h^2 = 2.2000E-02, Omega_c h^2 = 1.2000E-01, Omega_k = 0.0000E+00, Omega_nu h^2 = 0.0000E+00, A_s = 2.1000E-09, n_s = 9.5000E-01, alpha_s = 0.0000E+00\n",
      "will run migrad\n",
      "H0 = 6.7000E+01, Omega_b h^2 = 2.2000E-02, Omega_c h^2 = 1.2000E-01, Omega_k = 0.0000E+00, Omega_nu h^2 = 0.0000E+00, A_s = 2.1000E-09, n_s = 9.5143E-01, alpha_s = 0.0000E+00\n",
      "will run migrad\n",
      "H0 = 6.7000E+01, Omega_b h^2 = 2.2000E-02, Omega_c h^2 = 1.2000E-01, Omega_k = 0.0000E+00, Omega_nu h^2 = 0.0000E+00, A_s = 2.1000E-09, n_s = 9.5286E-01, alpha_s = 0.0000E+00\n",
      "will run migrad\n",
      "H0 = 6.7000E+01, Omega_b h^2 = 2.2000E-02, Omega_c h^2 = 1.2000E-01, Omega_k = 0.0000E+00, Omega_nu h^2 = 0.0000E+00, A_s = 2.1000E-09, n_s = 9.5429E-01, alpha_s = 0.0000E+00\n",
      "will run migrad\n",
      "H0 = 6.7000E+01, Omega_b h^2 = 2.2000E-02, Omega_c h^2 = 1.2000E-01, Omega_k = 0.0000E+00, Omega_nu h^2 = 0.0000E+00, A_s = 2.1000E-09, n_s = 9.5571E-01, alpha_s = 0.0000E+00\n",
      "will run migrad\n",
      "H0 = 6.7000E+01, Omega_b h^2 = 2.2000E-02, Omega_c h^2 = 1.2000E-01, Omega_k = 0.0000E+00, Omega_nu h^2 = 0.0000E+00, A_s = 2.1000E-09, n_s = 9.5714E-01, alpha_s = 0.0000E+00\n",
      "will run migrad\n",
      "H0 = 6.7000E+01, Omega_b h^2 = 2.2000E-02, Omega_c h^2 = 1.2000E-01, Omega_k = 0.0000E+00, Omega_nu h^2 = 0.0000E+00, A_s = 2.1000E-09, n_s = 9.5857E-01, alpha_s = 0.0000E+00\n",
      "will run migrad\n",
      "H0 = 6.7000E+01, Omega_b h^2 = 2.2000E-02, Omega_c h^2 = 1.2000E-01, Omega_k = 0.0000E+00, Omega_nu h^2 = 0.0000E+00, A_s = 2.1000E-09, n_s = 9.6000E-01, alpha_s = 0.0000E+00\n",
      "will run migrad\n",
      "H0 = 6.7000E+01, Omega_b h^2 = 2.2000E-02, Omega_c h^2 = 1.2000E-01, Omega_k = 0.0000E+00, Omega_nu h^2 = 0.0000E+00, A_s = 2.1000E-09, n_s = 9.6143E-01, alpha_s = 0.0000E+00\n",
      "will run migrad\n",
      "H0 = 6.7000E+01, Omega_b h^2 = 2.2000E-02, Omega_c h^2 = 1.2000E-01, Omega_k = 0.0000E+00, Omega_nu h^2 = 0.0000E+00, A_s = 2.1000E-09, n_s = 9.6286E-01, alpha_s = 0.0000E+00\n",
      "will run migrad\n",
      "H0 = 6.7000E+01, Omega_b h^2 = 2.2000E-02, Omega_c h^2 = 1.2000E-01, Omega_k = 0.0000E+00, Omega_nu h^2 = 0.0000E+00, A_s = 2.1000E-09, n_s = 9.6429E-01, alpha_s = 0.0000E+00\n",
      "will run migrad\n",
      "H0 = 6.7000E+01, Omega_b h^2 = 2.2000E-02, Omega_c h^2 = 1.2000E-01, Omega_k = 0.0000E+00, Omega_nu h^2 = 0.0000E+00, A_s = 2.1000E-09, n_s = 9.6571E-01, alpha_s = 0.0000E+00\n",
      "will run migrad\n",
      "H0 = 6.7000E+01, Omega_b h^2 = 2.2000E-02, Omega_c h^2 = 1.2000E-01, Omega_k = 0.0000E+00, Omega_nu h^2 = 0.0000E+00, A_s = 2.1000E-09, n_s = 9.6714E-01, alpha_s = 0.0000E+00\n",
      "will run migrad\n",
      "H0 = 6.7000E+01, Omega_b h^2 = 2.2000E-02, Omega_c h^2 = 1.2000E-01, Omega_k = 0.0000E+00, Omega_nu h^2 = 0.0000E+00, A_s = 2.1000E-09, n_s = 9.6857E-01, alpha_s = 0.0000E+00\n",
      "will run migrad\n",
      "H0 = 6.7000E+01, Omega_b h^2 = 2.2000E-02, Omega_c h^2 = 1.2000E-01, Omega_k = 0.0000E+00, Omega_nu h^2 = 0.0000E+00, A_s = 2.1000E-09, n_s = 9.7000E-01, alpha_s = 0.0000E+00\n",
      "will run migrad\n",
      "H0 = 6.7000E+01, Omega_b h^2 = 2.2000E-02, Omega_c h^2 = 1.2000E-01, Omega_k = 0.0000E+00, Omega_nu h^2 = 0.0000E+00, A_s = 2.1000E-09, n_s = 9.7143E-01, alpha_s = 0.0000E+00\n",
      "will run migrad\n",
      "H0 = 6.7000E+01, Omega_b h^2 = 2.2000E-02, Omega_c h^2 = 1.2000E-01, Omega_k = 0.0000E+00, Omega_nu h^2 = 0.0000E+00, A_s = 2.1000E-09, n_s = 9.7286E-01, alpha_s = 0.0000E+00\n",
      "will run migrad\n",
      "H0 = 6.7000E+01, Omega_b h^2 = 2.2000E-02, Omega_c h^2 = 1.2000E-01, Omega_k = 0.0000E+00, Omega_nu h^2 = 0.0000E+00, A_s = 2.1000E-09, n_s = 9.7429E-01, alpha_s = 0.0000E+00\n",
      "will run migrad\n",
      "H0 = 6.7000E+01, Omega_b h^2 = 2.2000E-02, Omega_c h^2 = 1.2000E-01, Omega_k = 0.0000E+00, Omega_nu h^2 = 0.0000E+00, A_s = 2.1000E-09, n_s = 9.7571E-01, alpha_s = 0.0000E+00\n",
      "will run migrad\n",
      "H0 = 6.7000E+01, Omega_b h^2 = 2.2000E-02, Omega_c h^2 = 1.2000E-01, Omega_k = 0.0000E+00, Omega_nu h^2 = 0.0000E+00, A_s = 2.1000E-09, n_s = 9.7714E-01, alpha_s = 0.0000E+00\n",
      "will run migrad\n",
      "H0 = 6.7000E+01, Omega_b h^2 = 2.2000E-02, Omega_c h^2 = 1.2000E-01, Omega_k = 0.0000E+00, Omega_nu h^2 = 0.0000E+00, A_s = 2.1000E-09, n_s = 9.7857E-01, alpha_s = 0.0000E+00\n",
      "will run migrad\n",
      "H0 = 6.7000E+01, Omega_b h^2 = 2.2000E-02, Omega_c h^2 = 1.2000E-01, Omega_k = 0.0000E+00, Omega_nu h^2 = 0.0000E+00, A_s = 2.1000E-09, n_s = 9.8000E-01, alpha_s = 0.0000E+00\n",
      "will run migrad\n",
      "H0 = 6.7000E+01, Omega_b h^2 = 2.2000E-02, Omega_c h^2 = 1.2000E-01, Omega_k = 0.0000E+00, Omega_nu h^2 = 0.0000E+00, A_s = 2.1000E-09, n_s = 9.8143E-01, alpha_s = 0.0000E+00\n",
      "will run migrad\n",
      "H0 = 6.7000E+01, Omega_b h^2 = 2.2000E-02, Omega_c h^2 = 1.2000E-01, Omega_k = 0.0000E+00, Omega_nu h^2 = 0.0000E+00, A_s = 2.1000E-09, n_s = 9.8286E-01, alpha_s = 0.0000E+00\n",
      "will run migrad\n",
      "H0 = 6.7000E+01, Omega_b h^2 = 2.2000E-02, Omega_c h^2 = 1.2000E-01, Omega_k = 0.0000E+00, Omega_nu h^2 = 0.0000E+00, A_s = 2.1000E-09, n_s = 9.8429E-01, alpha_s = 0.0000E+00\n",
      "will run migrad\n",
      "H0 = 6.7000E+01, Omega_b h^2 = 2.2000E-02, Omega_c h^2 = 1.2000E-01, Omega_k = 0.0000E+00, Omega_nu h^2 = 0.0000E+00, A_s = 2.1000E-09, n_s = 9.8571E-01, alpha_s = 0.0000E+00\n",
      "will run migrad\n",
      "H0 = 6.7000E+01, Omega_b h^2 = 2.2000E-02, Omega_c h^2 = 1.2000E-01, Omega_k = 0.0000E+00, Omega_nu h^2 = 0.0000E+00, A_s = 2.1000E-09, n_s = 9.8714E-01, alpha_s = 0.0000E+00\n",
      "will run migrad\n",
      "H0 = 6.7000E+01, Omega_b h^2 = 2.2000E-02, Omega_c h^2 = 1.2000E-01, Omega_k = 0.0000E+00, Omega_nu h^2 = 0.0000E+00, A_s = 2.1000E-09, n_s = 9.8857E-01, alpha_s = 0.0000E+00\n",
      "will run migrad\n",
      "H0 = 6.7000E+01, Omega_b h^2 = 2.2000E-02, Omega_c h^2 = 1.2000E-01, Omega_k = 0.0000E+00, Omega_nu h^2 = 0.0000E+00, A_s = 2.1000E-09, n_s = 9.9000E-01, alpha_s = 0.0000E+00\n"
     ]
    },
    {
     "name": "stdout",
     "output_type": "stream",
     "text": [
      "will run migrad\n",
      "H0 = 6.7000E+01, Omega_b h^2 = 2.2000E-02, Omega_c h^2 = 1.2000E-01, Omega_k = 0.0000E+00, Omega_nu h^2 = 0.0000E+00, A_s = 2.1000E-09, n_s = 9.9143E-01, alpha_s = 0.0000E+00\n",
      "will run migrad\n",
      "H0 = 6.7000E+01, Omega_b h^2 = 2.2000E-02, Omega_c h^2 = 1.2000E-01, Omega_k = 0.0000E+00, Omega_nu h^2 = 0.0000E+00, A_s = 2.1000E-09, n_s = 9.9286E-01, alpha_s = 0.0000E+00\n",
      "will run migrad\n",
      "H0 = 6.7000E+01, Omega_b h^2 = 2.2000E-02, Omega_c h^2 = 1.2000E-01, Omega_k = 0.0000E+00, Omega_nu h^2 = 0.0000E+00, A_s = 2.1000E-09, n_s = 9.9429E-01, alpha_s = 0.0000E+00\n",
      "will run migrad\n",
      "H0 = 6.7000E+01, Omega_b h^2 = 2.2000E-02, Omega_c h^2 = 1.2000E-01, Omega_k = 0.0000E+00, Omega_nu h^2 = 0.0000E+00, A_s = 2.1000E-09, n_s = 9.9571E-01, alpha_s = 0.0000E+00\n",
      "will run migrad\n",
      "H0 = 6.7000E+01, Omega_b h^2 = 2.2000E-02, Omega_c h^2 = 1.2000E-01, Omega_k = 0.0000E+00, Omega_nu h^2 = 0.0000E+00, A_s = 2.1000E-09, n_s = 9.9714E-01, alpha_s = 0.0000E+00\n",
      "will run migrad\n",
      "H0 = 6.7000E+01, Omega_b h^2 = 2.2000E-02, Omega_c h^2 = 1.2000E-01, Omega_k = 0.0000E+00, Omega_nu h^2 = 0.0000E+00, A_s = 2.1000E-09, n_s = 9.9857E-01, alpha_s = 0.0000E+00\n",
      "will run migrad\n",
      "H0 = 6.7000E+01, Omega_b h^2 = 2.2000E-02, Omega_c h^2 = 1.2000E-01, Omega_k = 0.0000E+00, Omega_nu h^2 = 0.0000E+00, A_s = 2.1000E-09, n_s = 1.0000E+00, alpha_s = 0.0000E+00\n",
      "will run migrad\n"
     ]
    }
   ],
   "source": [
    "for i in range(scan_N):\n",
    "    cosmo_fid=camb_cosmo.get_cosmology(ns=scan_ns[i])\n",
    "    camb_cosmo.print_info(cosmo_fid)\n",
    "    theory=lya_theory.LyaTheory(zs=data.z,emulator=emu,cosmo_fid=cosmo_fid)\n",
    "    like=likelihood.Likelihood(data=data,theory=theory,\n",
    "                            free_param_names=free_param_names,\n",
    "                            prior_Gauss_rms=prior,include_CMB=False)\n",
    "    minimizer = iminuit_minimizer.IminuitMinimizer(like)\n",
    "    minimizer.minimize(compute_hesse=False)\n",
    "    scan_log_like[i]=minimizer.minimizer.fval"
   ]
  },
  {
   "cell_type": "code",
   "execution_count": 9,
   "metadata": {},
   "outputs": [
    {
     "data": {
      "text/plain": [
       "Text(0.5, 0, '$n_s$')"
      ]
     },
     "execution_count": 9,
     "metadata": {},
     "output_type": "execute_result"
    },
    {
     "data": {
      "image/png": "[encoded data removed]",
      "text/plain": [
       "<Figure size 840x560 with 1 Axes>"
      ]
     },
     "metadata": {
      "needs_background": "light"
     },
     "output_type": "display_data"
    }
   ],
   "source": [
    "plt.plot(scan_ns,scan_log_like)\n",
    "plt.axvline(x=like.truth['ns'],ls=':',color='red')\n",
    "plt.xlabel(r'$n_s$')"
   ]
  },
  {
   "cell_type": "markdown",
   "metadata": {},
   "source": [
    "### For different values of ($A_s$, $n_s$) will minimize over ($\\ln \\tau_0$)"
   ]
  },
  {
   "cell_type": "code",
   "execution_count": 10,
   "metadata": {},
   "outputs": [],
   "source": [
    "free_param_names=[\"ln_tau_0\",\"ln_tau_1\",\"ln_gamma_0\",\"ln_gamma_1\"]\n",
    "prior=0.5"
   ]
  },
  {
   "cell_type": "code",
   "execution_count": 11,
   "metadata": {},
   "outputs": [],
   "source": [
    "def get_max_log_like(As,ns):\n",
    "    cosmo_fid=camb_cosmo.get_cosmology(As=As,ns=ns)\n",
    "    camb_cosmo.print_info(cosmo_fid)\n",
    "    theory=lya_theory.LyaTheory(zs=data.z,emulator=emu,cosmo_fid=cosmo_fid)\n",
    "    like=likelihood.Likelihood(data=data,theory=theory,\n",
    "                            free_param_names=free_param_names,\n",
    "                            prior_Gauss_rms=prior,include_CMB=False)\n",
    "    minimizer = iminuit_minimizer.IminuitMinimizer(like)\n",
    "    minimizer.minimize(compute_hesse=False)\n",
    "    return minimizer.minimizer.fval"
   ]
  },
  {
   "cell_type": "code",
   "execution_count": 12,
   "metadata": {},
   "outputs": [
    {
     "name": "stdout",
     "output_type": "stream",
     "text": [
      "H0 = 6.7000E+01, Omega_b h^2 = 2.2000E-02, Omega_c h^2 = 1.2000E-01, Omega_k = 0.0000E+00, Omega_nu h^2 = 0.0000E+00, A_s = 2.0000E+09, n_s = 9.6000E-01, alpha_s = 0.0000E+00\n",
      "will run migrad\n",
      "3.0297 seconds to minimize\n"
     ]
    }
   ],
   "source": [
    "# test computing time for one minimization\n",
    "start = time.time()\n",
    "get_max_log_like(As=2e9,ns=0.96)\n",
    "end = time.time()\n",
    "print('{:.4f} seconds to minimize'.format(end-start))"
   ]
  },
  {
   "cell_type": "code",
   "execution_count": 13,
   "metadata": {},
   "outputs": [],
   "source": [
    "scan_N=10\n",
    "min_As_e9=1.7\n",
    "max_As_e9=2.5\n",
    "min_ns=0.93\n",
    "max_ns=1.0\n",
    "Nj=complex(0,scan_N)\n",
    "scan_As_e9, scan_ns = np.mgrid[min_As_e9:max_As_e9:Nj, min_ns:max_ns:Nj]\n",
    "scan_log_like = np.empty_like(scan_As_e9)"
   ]
  },
  {
   "cell_type": "code",
   "execution_count": null,
   "metadata": {},
   "outputs": [
    {
     "name": "stdout",
     "output_type": "stream",
     "text": [
      "0 0 1.7000000000000001e-09\n",
      "H0 = 6.7000E+01, Omega_b h^2 = 2.2000E-02, Omega_c h^2 = 1.2000E-01, Omega_k = 0.0000E+00, Omega_nu h^2 = 0.0000E+00, A_s = 1.7000E-09, n_s = 9.3000E-01, alpha_s = 0.0000E+00\n",
      "will run migrad\n",
      "0 1 1.7000000000000001e-09\n",
      "H0 = 6.7000E+01, Omega_b h^2 = 2.2000E-02, Omega_c h^2 = 1.2000E-01, Omega_k = 0.0000E+00, Omega_nu h^2 = 0.0000E+00, A_s = 1.7000E-09, n_s = 9.3778E-01, alpha_s = 0.0000E+00\n",
      "will run migrad\n",
      "0 2 1.7000000000000001e-09\n",
      "H0 = 6.7000E+01, Omega_b h^2 = 2.2000E-02, Omega_c h^2 = 1.2000E-01, Omega_k = 0.0000E+00, Omega_nu h^2 = 0.0000E+00, A_s = 1.7000E-09, n_s = 9.4556E-01, alpha_s = 0.0000E+00\n",
      "will run migrad\n",
      "0 3 1.7000000000000001e-09\n",
      "H0 = 6.7000E+01, Omega_b h^2 = 2.2000E-02, Omega_c h^2 = 1.2000E-01, Omega_k = 0.0000E+00, Omega_nu h^2 = 0.0000E+00, A_s = 1.7000E-09, n_s = 9.5333E-01, alpha_s = 0.0000E+00\n",
      "will run migrad\n",
      "0 4 1.7000000000000001e-09\n",
      "H0 = 6.7000E+01, Omega_b h^2 = 2.2000E-02, Omega_c h^2 = 1.2000E-01, Omega_k = 0.0000E+00, Omega_nu h^2 = 0.0000E+00, A_s = 1.7000E-09, n_s = 9.6111E-01, alpha_s = 0.0000E+00\n",
      "will run migrad\n",
      "0 5 1.7000000000000001e-09\n",
      "H0 = 6.7000E+01, Omega_b h^2 = 2.2000E-02, Omega_c h^2 = 1.2000E-01, Omega_k = 0.0000E+00, Omega_nu h^2 = 0.0000E+00, A_s = 1.7000E-09, n_s = 9.6889E-01, alpha_s = 0.0000E+00\n",
      "will run migrad\n",
      "0 6 1.7000000000000001e-09\n",
      "H0 = 6.7000E+01, Omega_b h^2 = 2.2000E-02, Omega_c h^2 = 1.2000E-01, Omega_k = 0.0000E+00, Omega_nu h^2 = 0.0000E+00, A_s = 1.7000E-09, n_s = 9.7667E-01, alpha_s = 0.0000E+00\n",
      "will run migrad\n",
      "0 7 1.7000000000000001e-09\n",
      "H0 = 6.7000E+01, Omega_b h^2 = 2.2000E-02, Omega_c h^2 = 1.2000E-01, Omega_k = 0.0000E+00, Omega_nu h^2 = 0.0000E+00, A_s = 1.7000E-09, n_s = 9.8444E-01, alpha_s = 0.0000E+00\n",
      "will run migrad\n",
      "0 8 1.7000000000000001e-09\n",
      "H0 = 6.7000E+01, Omega_b h^2 = 2.2000E-02, Omega_c h^2 = 1.2000E-01, Omega_k = 0.0000E+00, Omega_nu h^2 = 0.0000E+00, A_s = 1.7000E-09, n_s = 9.9222E-01, alpha_s = 0.0000E+00\n",
      "will run migrad\n",
      "0 9 1.7000000000000001e-09\n",
      "H0 = 6.7000E+01, Omega_b h^2 = 2.2000E-02, Omega_c h^2 = 1.2000E-01, Omega_k = 0.0000E+00, Omega_nu h^2 = 0.0000E+00, A_s = 1.7000E-09, n_s = 1.0000E+00, alpha_s = 0.0000E+00\n",
      "will run migrad\n",
      "1 0 1.7888888888888888e-09\n",
      "H0 = 6.7000E+01, Omega_b h^2 = 2.2000E-02, Omega_c h^2 = 1.2000E-01, Omega_k = 0.0000E+00, Omega_nu h^2 = 0.0000E+00, A_s = 1.7889E-09, n_s = 9.3000E-01, alpha_s = 0.0000E+00\n",
      "will run migrad\n",
      "1 1 1.7888888888888888e-09\n",
      "H0 = 6.7000E+01, Omega_b h^2 = 2.2000E-02, Omega_c h^2 = 1.2000E-01, Omega_k = 0.0000E+00, Omega_nu h^2 = 0.0000E+00, A_s = 1.7889E-09, n_s = 9.3778E-01, alpha_s = 0.0000E+00\n",
      "will run migrad\n",
      "1 2 1.7888888888888888e-09\n",
      "H0 = 6.7000E+01, Omega_b h^2 = 2.2000E-02, Omega_c h^2 = 1.2000E-01, Omega_k = 0.0000E+00, Omega_nu h^2 = 0.0000E+00, A_s = 1.7889E-09, n_s = 9.4556E-01, alpha_s = 0.0000E+00\n",
      "will run migrad\n",
      "1 3 1.7888888888888888e-09\n",
      "H0 = 6.7000E+01, Omega_b h^2 = 2.2000E-02, Omega_c h^2 = 1.2000E-01, Omega_k = 0.0000E+00, Omega_nu h^2 = 0.0000E+00, A_s = 1.7889E-09, n_s = 9.5333E-01, alpha_s = 0.0000E+00\n",
      "will run migrad\n",
      "1 4 1.7888888888888888e-09\n",
      "H0 = 6.7000E+01, Omega_b h^2 = 2.2000E-02, Omega_c h^2 = 1.2000E-01, Omega_k = 0.0000E+00, Omega_nu h^2 = 0.0000E+00, A_s = 1.7889E-09, n_s = 9.6111E-01, alpha_s = 0.0000E+00\n",
      "will run migrad\n",
      "1 5 1.7888888888888888e-09\n",
      "H0 = 6.7000E+01, Omega_b h^2 = 2.2000E-02, Omega_c h^2 = 1.2000E-01, Omega_k = 0.0000E+00, Omega_nu h^2 = 0.0000E+00, A_s = 1.7889E-09, n_s = 9.6889E-01, alpha_s = 0.0000E+00\n",
      "will run migrad\n",
      "1 6 1.7888888888888888e-09\n",
      "H0 = 6.7000E+01, Omega_b h^2 = 2.2000E-02, Omega_c h^2 = 1.2000E-01, Omega_k = 0.0000E+00, Omega_nu h^2 = 0.0000E+00, A_s = 1.7889E-09, n_s = 9.7667E-01, alpha_s = 0.0000E+00\n",
      "will run migrad\n",
      "1 7 1.7888888888888888e-09\n",
      "H0 = 6.7000E+01, Omega_b h^2 = 2.2000E-02, Omega_c h^2 = 1.2000E-01, Omega_k = 0.0000E+00, Omega_nu h^2 = 0.0000E+00, A_s = 1.7889E-09, n_s = 9.8444E-01, alpha_s = 0.0000E+00\n",
      "will run migrad\n",
      "1 8 1.7888888888888888e-09\n",
      "H0 = 6.7000E+01, Omega_b h^2 = 2.2000E-02, Omega_c h^2 = 1.2000E-01, Omega_k = 0.0000E+00, Omega_nu h^2 = 0.0000E+00, A_s = 1.7889E-09, n_s = 9.9222E-01, alpha_s = 0.0000E+00\n",
      "will run migrad\n",
      "1 9 1.7888888888888888e-09\n",
      "H0 = 6.7000E+01, Omega_b h^2 = 2.2000E-02, Omega_c h^2 = 1.2000E-01, Omega_k = 0.0000E+00, Omega_nu h^2 = 0.0000E+00, A_s = 1.7889E-09, n_s = 1.0000E+00, alpha_s = 0.0000E+00\n",
      "will run migrad\n",
      "2 0 1.8777777777777778e-09\n",
      "H0 = 6.7000E+01, Omega_b h^2 = 2.2000E-02, Omega_c h^2 = 1.2000E-01, Omega_k = 0.0000E+00, Omega_nu h^2 = 0.0000E+00, A_s = 1.8778E-09, n_s = 9.3000E-01, alpha_s = 0.0000E+00\n",
      "will run migrad\n",
      "2 1 1.8777777777777778e-09\n",
      "H0 = 6.7000E+01, Omega_b h^2 = 2.2000E-02, Omega_c h^2 = 1.2000E-01, Omega_k = 0.0000E+00, Omega_nu h^2 = 0.0000E+00, A_s = 1.8778E-09, n_s = 9.3778E-01, alpha_s = 0.0000E+00\n",
      "will run migrad\n",
      "2 2 1.8777777777777778e-09\n",
      "H0 = 6.7000E+01, Omega_b h^2 = 2.2000E-02, Omega_c h^2 = 1.2000E-01, Omega_k = 0.0000E+00, Omega_nu h^2 = 0.0000E+00, A_s = 1.8778E-09, n_s = 9.4556E-01, alpha_s = 0.0000E+00\n",
      "will run migrad\n",
      "W VariableMetricBuilder Matrix not pos.def, gdel = 4.562e+85 > 0\n",
      "W MnPosDef non-positive diagonal element in covariance matrix[ 3 ] = 0\n",
      "W MnPosDef Added to diagonal of Error matrix a value 0.500001\n",
      "W VariableMetricBuilder gdel = -1.47329e+204\n",
      "W VariableMetricBuilder No improvement in line search\n",
      "W VariableMetricBuilder Iterations finish without convergence; Edm 9.84809e+202 Requested 0.0001\n",
      "W MnPosDef Matrix forced pos-def by adding to diagonal 0.034261\n",
      "2 3 1.8777777777777778e-09\n",
      "H0 = 6.7000E+01, Omega_b h^2 = 2.2000E-02, Omega_c h^2 = 1.2000E-01, Omega_k = 0.0000E+00, Omega_nu h^2 = 0.0000E+00, A_s = 1.8778E-09, n_s = 9.5333E-01, alpha_s = 0.0000E+00\n",
      "will run migrad\n",
      "2 4 1.8777777777777778e-09\n",
      "H0 = 6.7000E+01, Omega_b h^2 = 2.2000E-02, Omega_c h^2 = 1.2000E-01, Omega_k = 0.0000E+00, Omega_nu h^2 = 0.0000E+00, A_s = 1.8778E-09, n_s = 9.6111E-01, alpha_s = 0.0000E+00\n",
      "will run migrad\n",
      "2 5 1.8777777777777778e-09\n",
      "H0 = 6.7000E+01, Omega_b h^2 = 2.2000E-02, Omega_c h^2 = 1.2000E-01, Omega_k = 0.0000E+00, Omega_nu h^2 = 0.0000E+00, A_s = 1.8778E-09, n_s = 9.6889E-01, alpha_s = 0.0000E+00\n",
      "will run migrad\n",
      "2 6 1.8777777777777778e-09\n",
      "H0 = 6.7000E+01, Omega_b h^2 = 2.2000E-02, Omega_c h^2 = 1.2000E-01, Omega_k = 0.0000E+00, Omega_nu h^2 = 0.0000E+00, A_s = 1.8778E-09, n_s = 9.7667E-01, alpha_s = 0.0000E+00\n",
      "will run migrad\n",
      "2 7 1.8777777777777778e-09\n",
      "H0 = 6.7000E+01, Omega_b h^2 = 2.2000E-02, Omega_c h^2 = 1.2000E-01, Omega_k = 0.0000E+00, Omega_nu h^2 = 0.0000E+00, A_s = 1.8778E-09, n_s = 9.8444E-01, alpha_s = 0.0000E+00\n",
      "will run migrad\n",
      "2 8 1.8777777777777778e-09\n",
      "H0 = 6.7000E+01, Omega_b h^2 = 2.2000E-02, Omega_c h^2 = 1.2000E-01, Omega_k = 0.0000E+00, Omega_nu h^2 = 0.0000E+00, A_s = 1.8778E-09, n_s = 9.9222E-01, alpha_s = 0.0000E+00\n",
      "will run migrad\n",
      "2 9 1.8777777777777778e-09\n",
      "H0 = 6.7000E+01, Omega_b h^2 = 2.2000E-02, Omega_c h^2 = 1.2000E-01, Omega_k = 0.0000E+00, Omega_nu h^2 = 0.0000E+00, A_s = 1.8778E-09, n_s = 1.0000E+00, alpha_s = 0.0000E+00\n",
      "will run migrad\n",
      "3 0 1.9666666666666665e-09\n",
      "H0 = 6.7000E+01, Omega_b h^2 = 2.2000E-02, Omega_c h^2 = 1.2000E-01, Omega_k = 0.0000E+00, Omega_nu h^2 = 0.0000E+00, A_s = 1.9667E-09, n_s = 9.3000E-01, alpha_s = 0.0000E+00\n",
      "will run migrad\n",
      "3 1 1.9666666666666665e-09\n",
      "H0 = 6.7000E+01, Omega_b h^2 = 2.2000E-02, Omega_c h^2 = 1.2000E-01, Omega_k = 0.0000E+00, Omega_nu h^2 = 0.0000E+00, A_s = 1.9667E-09, n_s = 9.3778E-01, alpha_s = 0.0000E+00\n",
      "will run migrad\n",
      "3 2 1.9666666666666665e-09\n",
      "H0 = 6.7000E+01, Omega_b h^2 = 2.2000E-02, Omega_c h^2 = 1.2000E-01, Omega_k = 0.0000E+00, Omega_nu h^2 = 0.0000E+00, A_s = 1.9667E-09, n_s = 9.4556E-01, alpha_s = 0.0000E+00\n",
      "will run migrad\n",
      "3 3 1.9666666666666665e-09\n",
      "H0 = 6.7000E+01, Omega_b h^2 = 2.2000E-02, Omega_c h^2 = 1.2000E-01, Omega_k = 0.0000E+00, Omega_nu h^2 = 0.0000E+00, A_s = 1.9667E-09, n_s = 9.5333E-01, alpha_s = 0.0000E+00\n",
      "will run migrad\n",
      "3 4 1.9666666666666665e-09\n",
      "H0 = 6.7000E+01, Omega_b h^2 = 2.2000E-02, Omega_c h^2 = 1.2000E-01, Omega_k = 0.0000E+00, Omega_nu h^2 = 0.0000E+00, A_s = 1.9667E-09, n_s = 9.6111E-01, alpha_s = 0.0000E+00\n",
      "will run migrad\n",
      "3 5 1.9666666666666665e-09\n",
      "H0 = 6.7000E+01, Omega_b h^2 = 2.2000E-02, Omega_c h^2 = 1.2000E-01, Omega_k = 0.0000E+00, Omega_nu h^2 = 0.0000E+00, A_s = 1.9667E-09, n_s = 9.6889E-01, alpha_s = 0.0000E+00\n"
     ]
    },
    {
     "name": "stdout",
     "output_type": "stream",
     "text": [
      "will run migrad\n",
      "3 6 1.9666666666666665e-09\n",
      "H0 = 6.7000E+01, Omega_b h^2 = 2.2000E-02, Omega_c h^2 = 1.2000E-01, Omega_k = 0.0000E+00, Omega_nu h^2 = 0.0000E+00, A_s = 1.9667E-09, n_s = 9.7667E-01, alpha_s = 0.0000E+00\n",
      "will run migrad\n",
      "3 7 1.9666666666666665e-09\n",
      "H0 = 6.7000E+01, Omega_b h^2 = 2.2000E-02, Omega_c h^2 = 1.2000E-01, Omega_k = 0.0000E+00, Omega_nu h^2 = 0.0000E+00, A_s = 1.9667E-09, n_s = 9.8444E-01, alpha_s = 0.0000E+00\n",
      "will run migrad\n",
      "3 8 1.9666666666666665e-09\n",
      "H0 = 6.7000E+01, Omega_b h^2 = 2.2000E-02, Omega_c h^2 = 1.2000E-01, Omega_k = 0.0000E+00, Omega_nu h^2 = 0.0000E+00, A_s = 1.9667E-09, n_s = 9.9222E-01, alpha_s = 0.0000E+00\n",
      "will run migrad\n",
      "3 9 1.9666666666666665e-09\n",
      "H0 = 6.7000E+01, Omega_b h^2 = 2.2000E-02, Omega_c h^2 = 1.2000E-01, Omega_k = 0.0000E+00, Omega_nu h^2 = 0.0000E+00, A_s = 1.9667E-09, n_s = 1.0000E+00, alpha_s = 0.0000E+00\n",
      "will run migrad\n",
      "4 0 2.0555555555555556e-09\n",
      "H0 = 6.7000E+01, Omega_b h^2 = 2.2000E-02, Omega_c h^2 = 1.2000E-01, Omega_k = 0.0000E+00, Omega_nu h^2 = 0.0000E+00, A_s = 2.0556E-09, n_s = 9.3000E-01, alpha_s = 0.0000E+00\n",
      "will run migrad\n",
      "4 1 2.0555555555555556e-09\n",
      "H0 = 6.7000E+01, Omega_b h^2 = 2.2000E-02, Omega_c h^2 = 1.2000E-01, Omega_k = 0.0000E+00, Omega_nu h^2 = 0.0000E+00, A_s = 2.0556E-09, n_s = 9.3778E-01, alpha_s = 0.0000E+00\n",
      "will run migrad\n",
      "4 2 2.0555555555555556e-09\n",
      "H0 = 6.7000E+01, Omega_b h^2 = 2.2000E-02, Omega_c h^2 = 1.2000E-01, Omega_k = 0.0000E+00, Omega_nu h^2 = 0.0000E+00, A_s = 2.0556E-09, n_s = 9.4556E-01, alpha_s = 0.0000E+00\n",
      "will run migrad\n",
      "4 3 2.0555555555555556e-09\n",
      "H0 = 6.7000E+01, Omega_b h^2 = 2.2000E-02, Omega_c h^2 = 1.2000E-01, Omega_k = 0.0000E+00, Omega_nu h^2 = 0.0000E+00, A_s = 2.0556E-09, n_s = 9.5333E-01, alpha_s = 0.0000E+00\n",
      "will run migrad\n",
      "4 4 2.0555555555555556e-09\n",
      "H0 = 6.7000E+01, Omega_b h^2 = 2.2000E-02, Omega_c h^2 = 1.2000E-01, Omega_k = 0.0000E+00, Omega_nu h^2 = 0.0000E+00, A_s = 2.0556E-09, n_s = 9.6111E-01, alpha_s = 0.0000E+00\n",
      "will run migrad\n",
      "4 5 2.0555555555555556e-09\n",
      "H0 = 6.7000E+01, Omega_b h^2 = 2.2000E-02, Omega_c h^2 = 1.2000E-01, Omega_k = 0.0000E+00, Omega_nu h^2 = 0.0000E+00, A_s = 2.0556E-09, n_s = 9.6889E-01, alpha_s = 0.0000E+00\n",
      "will run migrad\n",
      "4 6 2.0555555555555556e-09\n",
      "H0 = 6.7000E+01, Omega_b h^2 = 2.2000E-02, Omega_c h^2 = 1.2000E-01, Omega_k = 0.0000E+00, Omega_nu h^2 = 0.0000E+00, A_s = 2.0556E-09, n_s = 9.7667E-01, alpha_s = 0.0000E+00\n",
      "will run migrad\n",
      "4 7 2.0555555555555556e-09\n",
      "H0 = 6.7000E+01, Omega_b h^2 = 2.2000E-02, Omega_c h^2 = 1.2000E-01, Omega_k = 0.0000E+00, Omega_nu h^2 = 0.0000E+00, A_s = 2.0556E-09, n_s = 9.8444E-01, alpha_s = 0.0000E+00\n",
      "will run migrad\n",
      "4 8 2.0555555555555556e-09\n",
      "H0 = 6.7000E+01, Omega_b h^2 = 2.2000E-02, Omega_c h^2 = 1.2000E-01, Omega_k = 0.0000E+00, Omega_nu h^2 = 0.0000E+00, A_s = 2.0556E-09, n_s = 9.9222E-01, alpha_s = 0.0000E+00\n",
      "will run migrad\n",
      "4 9 2.0555555555555556e-09\n",
      "H0 = 6.7000E+01, Omega_b h^2 = 2.2000E-02, Omega_c h^2 = 1.2000E-01, Omega_k = 0.0000E+00, Omega_nu h^2 = 0.0000E+00, A_s = 2.0556E-09, n_s = 1.0000E+00, alpha_s = 0.0000E+00\n",
      "will run migrad\n",
      "5 0 2.1444444444444443e-09\n",
      "H0 = 6.7000E+01, Omega_b h^2 = 2.2000E-02, Omega_c h^2 = 1.2000E-01, Omega_k = 0.0000E+00, Omega_nu h^2 = 0.0000E+00, A_s = 2.1444E-09, n_s = 9.3000E-01, alpha_s = 0.0000E+00\n",
      "will run migrad\n",
      "5 1 2.1444444444444443e-09\n",
      "H0 = 6.7000E+01, Omega_b h^2 = 2.2000E-02, Omega_c h^2 = 1.2000E-01, Omega_k = 0.0000E+00, Omega_nu h^2 = 0.0000E+00, A_s = 2.1444E-09, n_s = 9.3778E-01, alpha_s = 0.0000E+00\n",
      "will run migrad\n",
      "5 2 2.1444444444444443e-09\n",
      "H0 = 6.7000E+01, Omega_b h^2 = 2.2000E-02, Omega_c h^2 = 1.2000E-01, Omega_k = 0.0000E+00, Omega_nu h^2 = 0.0000E+00, A_s = 2.1444E-09, n_s = 9.4556E-01, alpha_s = 0.0000E+00\n",
      "will run migrad\n"
     ]
    }
   ],
   "source": [
    "for i in range(scan_N):\n",
    "    for j in range(scan_N):\n",
    "        As=scan_As_e9[i,j]*1e-9\n",
    "        print(i,j,As)\n",
    "        cosmo_fid=camb_cosmo.get_cosmology(As=As,ns=scan_ns[i,j])\n",
    "        camb_cosmo.print_info(cosmo_fid)\n",
    "        theory=lya_theory.LyaTheory(zs=data.z,emulator=emu,cosmo_fid=cosmo_fid)\n",
    "        like=likelihood.Likelihood(data=data,theory=theory,\n",
    "                            free_param_names=free_param_names,\n",
    "                            prior_Gauss_rms=prior,include_CMB=False)\n",
    "        minimizer = iminuit_minimizer.IminuitMinimizer(like)\n",
    "        minimizer.minimize(compute_hesse=False)\n",
    "        scan_log_like[i,j]=minimizer.minimizer.fval"
   ]
  },
  {
   "cell_type": "code",
   "execution_count": null,
   "metadata": {},
   "outputs": [],
   "source": [
    "plt.figure(figsize=[16,8])\n",
    "plt.imshow(np.rot90(scan_log_like), cmap=plt.cm.gist_earth_r,extent=[min_As_e9, max_As_e9, min_ns, max_ns])\n",
    "plt.xlabel('As e9')"
   ]
  },
  {
   "cell_type": "code",
   "execution_count": null,
   "metadata": {},
   "outputs": [],
   "source": []
  }
 ],
 "metadata": {
  "kernelspec": {
   "display_name": "Python 3 (ipykernel)",
   "language": "python",
   "name": "python3"
  },
  "language_info": {
   "codemirror_mode": {
    "name": "ipython",
    "version": 3
   },
   "file_extension": ".py",
   "mimetype": "text/x-python",
   "name": "python",
   "nbconvert_exporter": "python",
   "pygments_lexer": "ipython3",
   "version": "3.8.13"
  }
 },
 "nbformat": 4,
 "nbformat_minor": 4
}
